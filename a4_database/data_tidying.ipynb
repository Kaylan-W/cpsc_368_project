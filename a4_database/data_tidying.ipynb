{
 "cells": [
  {
   "cell_type": "code",
   "execution_count": 2,
   "id": "d393718f-916f-4858-b8d4-62c3af0ca77e",
   "metadata": {
    "collapsed": true,
    "jupyter": {
     "outputs_hidden": true
    }
   },
   "outputs": [
    {
     "name": "stderr",
     "output_type": "stream",
     "text": [
      "── \u001b[1mAttaching core tidyverse packages\u001b[22m ──────────────────────── tidyverse 2.0.0 ──\n",
      "\u001b[32m✔\u001b[39m \u001b[34mdplyr    \u001b[39m 1.1.4     \u001b[32m✔\u001b[39m \u001b[34mreadr    \u001b[39m 2.1.5\n",
      "\u001b[32m✔\u001b[39m \u001b[34mforcats  \u001b[39m 1.0.0     \u001b[32m✔\u001b[39m \u001b[34mstringr  \u001b[39m 1.5.1\n",
      "\u001b[32m✔\u001b[39m \u001b[34mggplot2  \u001b[39m 3.5.0     \u001b[32m✔\u001b[39m \u001b[34mtibble   \u001b[39m 3.2.1\n",
      "\u001b[32m✔\u001b[39m \u001b[34mlubridate\u001b[39m 1.9.3     \u001b[32m✔\u001b[39m \u001b[34mtidyr    \u001b[39m 1.3.1\n",
      "\u001b[32m✔\u001b[39m \u001b[34mpurrr    \u001b[39m 1.0.2     \n",
      "── \u001b[1mConflicts\u001b[22m ────────────────────────────────────────── tidyverse_conflicts() ──\n",
      "\u001b[31m✖\u001b[39m \u001b[34mdplyr\u001b[39m::\u001b[32mfilter()\u001b[39m masks \u001b[34mstats\u001b[39m::filter()\n",
      "\u001b[31m✖\u001b[39m \u001b[34mdplyr\u001b[39m::\u001b[32mlag()\u001b[39m    masks \u001b[34mstats\u001b[39m::lag()\n",
      "\u001b[36mℹ\u001b[39m Use the conflicted package (\u001b[3m\u001b[34m<http://conflicted.r-lib.org/>\u001b[39m\u001b[23m) to force all conflicts to become errors\n"
     ]
    }
   ],
   "source": [
    "library(tidyverse)\n"
   ]
  },
  {
   "cell_type": "code",
   "execution_count": null,
   "id": "2da34627-9105-4897-9f93-8ae00458dd2d",
   "metadata": {},
   "outputs": [],
   "source": [
    "# tidying the populations dataset\n",
    "populations <- read.csv(\"../data/population_ests_per_province_2012-2021.csv\")\n",
    "head(populations)\n",
    "\n",
    "# turn the columns into rows\n",
    "pops_pivoted <- populations |> pivot_longer(!Geography, names_to = \"period\", values_to = \"count\")\n",
    "# head(pops_pivoted)\n",
    "\n",
    "# split the 'period' column into quarter and year\n",
    "pops_split <- pops_pivoted %>% separate_wider_delim(period, \".\", names = c(\"quarter\", \"year\"))\n",
    "# head(pops_split)\n",
    "\n",
    "# only keep rows where quarter = Q4, because this is this population at the end of each year\n",
    "pops_sum <- pops_split |>\n",
    "            filter(quarter == \"Q4\")|>\n",
    "            select(-quarter)\n",
    "pops_sum\n",
    "write.csv(pops_sum, \"../data/tidied_population_estimates.csv\",row.names = FALSE)"
   ]
  },
  {
   "cell_type": "code",
   "execution_count": 45,
   "id": "30a98475-9147-4605-90f0-17af020978bd",
   "metadata": {},
   "outputs": [
    {
     "name": "stderr",
     "output_type": "stream",
     "text": [
      "Warning message in lapply(employment[, columns_to_convert], as.numeric):\n",
      "“NAs introduced by coercion”\n",
      "Warning message in lapply(employment[, columns_to_convert], as.numeric):\n",
      "“NAs introduced by coercion”\n",
      "Warning message in lapply(employment[, columns_to_convert], as.numeric):\n",
      "“NAs introduced by coercion”\n",
      "Warning message in lapply(employment[, columns_to_convert], as.numeric):\n",
      "“NAs introduced by coercion”\n",
      "Warning message in lapply(employment[, columns_to_convert], as.numeric):\n",
      "“NAs introduced by coercion”\n",
      "Warning message in lapply(employment[, columns_to_convert], as.numeric):\n",
      "“NAs introduced by coercion”\n",
      "Warning message in lapply(employment[, columns_to_convert], as.numeric):\n",
      "“NAs introduced by coercion”\n",
      "Warning message in lapply(employment[, columns_to_convert], as.numeric):\n",
      "“NAs introduced by coercion”\n",
      "Warning message in lapply(employment[, columns_to_convert], as.numeric):\n",
      "“NAs introduced by coercion”\n",
      "Warning message in lapply(employment[, columns_to_convert], as.numeric):\n",
      "“NAs introduced by coercion”\n"
     ]
    },
    {
     "data": {
      "text/html": [
       "<table class=\"dataframe\">\n",
       "<caption>A data.frame: 6 × 12</caption>\n",
       "<thead>\n",
       "\t<tr><th></th><th scope=col>naics_industry</th><th scope=col>province</th><th scope=col>2012</th><th scope=col>2013</th><th scope=col>2014</th><th scope=col>2015</th><th scope=col>2016</th><th scope=col>2017</th><th scope=col>2018</th><th scope=col>2019</th><th scope=col>2020</th><th scope=col>2021</th></tr>\n",
       "\t<tr><th></th><th scope=col>&lt;chr&gt;</th><th scope=col>&lt;chr&gt;</th><th scope=col>&lt;dbl&gt;</th><th scope=col>&lt;dbl&gt;</th><th scope=col>&lt;dbl&gt;</th><th scope=col>&lt;dbl&gt;</th><th scope=col>&lt;dbl&gt;</th><th scope=col>&lt;dbl&gt;</th><th scope=col>&lt;dbl&gt;</th><th scope=col>&lt;dbl&gt;</th><th scope=col>&lt;dbl&gt;</th><th scope=col>&lt;dbl&gt;</th></tr>\n",
       "</thead>\n",
       "<tbody>\n",
       "\t<tr><th scope=row>1</th><td>Total, all industries 6                                 </td><td>Newfoundland and Labrador</td><td>239.9</td><td>241.9</td><td>239.6</td><td>239.6</td><td>234.5</td><td>225.7</td><td>226.7</td><td>229.9</td><td>215.5</td><td>222.8</td></tr>\n",
       "\t<tr><th scope=row>2</th><td>Goods-producing sector 7                                </td><td>Newfoundland and Labrador</td><td> 54.0</td><td> 56.4</td><td> 56.7</td><td> 56.6</td><td> 52.5</td><td> 46.8</td><td> 47.1</td><td> 47.9</td><td> 43.0</td><td> 45.7</td></tr>\n",
       "\t<tr><th scope=row>3</th><td>Agriculture 8                                           </td><td>Newfoundland and Labrador</td><td>  1.5</td><td>  1.4</td><td>  1.3</td><td>  1.5</td><td>  1.3</td><td>  1.7</td><td>  1.6</td><td>  1.5</td><td>  1.2</td><td>  1.1</td></tr>\n",
       "\t<tr><th scope=row>4</th><td>Forestry, fishing, mining, quarrying, oil and gas 9 10  </td><td>Newfoundland and Labrador</td><td> 17.1</td><td> 17.6</td><td> 17.9</td><td> 16.6</td><td> 15.2</td><td> 13.0</td><td> 13.4</td><td> 14.3</td><td> 13.0</td><td> 14.8</td></tr>\n",
       "\t<tr><th scope=row>5</th><td>Forestry and logging and support activities for forestry</td><td>Newfoundland and Labrador</td><td>  0.7</td><td>   NA</td><td>  0.9</td><td>  1.2</td><td>  0.8</td><td>  1.0</td><td>  0.8</td><td>  0.8</td><td>  0.8</td><td>  0.9</td></tr>\n",
       "\t<tr><th scope=row>6</th><td>Fishing, hunting and trapping                           </td><td>Newfoundland and Labrador</td><td>  3.9</td><td>  3.9</td><td>  3.2</td><td>  3.5</td><td>  3.5</td><td>  3.1</td><td>  3.8</td><td>  3.6</td><td>  3.5</td><td>  3.7</td></tr>\n",
       "</tbody>\n",
       "</table>\n"
      ],
      "text/latex": [
       "A data.frame: 6 × 12\n",
       "\\begin{tabular}{r|llllllllllll}\n",
       "  & naics\\_industry & province & 2012 & 2013 & 2014 & 2015 & 2016 & 2017 & 2018 & 2019 & 2020 & 2021\\\\\n",
       "  & <chr> & <chr> & <dbl> & <dbl> & <dbl> & <dbl> & <dbl> & <dbl> & <dbl> & <dbl> & <dbl> & <dbl>\\\\\n",
       "\\hline\n",
       "\t1 & Total, all industries 6                                  & Newfoundland and Labrador & 239.9 & 241.9 & 239.6 & 239.6 & 234.5 & 225.7 & 226.7 & 229.9 & 215.5 & 222.8\\\\\n",
       "\t2 & Goods-producing sector 7                                 & Newfoundland and Labrador &  54.0 &  56.4 &  56.7 &  56.6 &  52.5 &  46.8 &  47.1 &  47.9 &  43.0 &  45.7\\\\\n",
       "\t3 & Agriculture 8                                            & Newfoundland and Labrador &   1.5 &   1.4 &   1.3 &   1.5 &   1.3 &   1.7 &   1.6 &   1.5 &   1.2 &   1.1\\\\\n",
       "\t4 & Forestry, fishing, mining, quarrying, oil and gas 9 10   & Newfoundland and Labrador &  17.1 &  17.6 &  17.9 &  16.6 &  15.2 &  13.0 &  13.4 &  14.3 &  13.0 &  14.8\\\\\n",
       "\t5 & Forestry and logging and support activities for forestry & Newfoundland and Labrador &   0.7 &    NA &   0.9 &   1.2 &   0.8 &   1.0 &   0.8 &   0.8 &   0.8 &   0.9\\\\\n",
       "\t6 & Fishing, hunting and trapping                            & Newfoundland and Labrador &   3.9 &   3.9 &   3.2 &   3.5 &   3.5 &   3.1 &   3.8 &   3.6 &   3.5 &   3.7\\\\\n",
       "\\end{tabular}\n"
      ],
      "text/markdown": [
       "\n",
       "A data.frame: 6 × 12\n",
       "\n",
       "| <!--/--> | naics_industry &lt;chr&gt; | province &lt;chr&gt; | 2012 &lt;dbl&gt; | 2013 &lt;dbl&gt; | 2014 &lt;dbl&gt; | 2015 &lt;dbl&gt; | 2016 &lt;dbl&gt; | 2017 &lt;dbl&gt; | 2018 &lt;dbl&gt; | 2019 &lt;dbl&gt; | 2020 &lt;dbl&gt; | 2021 &lt;dbl&gt; |\n",
       "|---|---|---|---|---|---|---|---|---|---|---|---|---|\n",
       "| 1 | Total, all industries 6                                  | Newfoundland and Labrador | 239.9 | 241.9 | 239.6 | 239.6 | 234.5 | 225.7 | 226.7 | 229.9 | 215.5 | 222.8 |\n",
       "| 2 | Goods-producing sector 7                                 | Newfoundland and Labrador |  54.0 |  56.4 |  56.7 |  56.6 |  52.5 |  46.8 |  47.1 |  47.9 |  43.0 |  45.7 |\n",
       "| 3 | Agriculture 8                                            | Newfoundland and Labrador |   1.5 |   1.4 |   1.3 |   1.5 |   1.3 |   1.7 |   1.6 |   1.5 |   1.2 |   1.1 |\n",
       "| 4 | Forestry, fishing, mining, quarrying, oil and gas 9 10   | Newfoundland and Labrador |  17.1 |  17.6 |  17.9 |  16.6 |  15.2 |  13.0 |  13.4 |  14.3 |  13.0 |  14.8 |\n",
       "| 5 | Forestry and logging and support activities for forestry | Newfoundland and Labrador |   0.7 |    NA |   0.9 |   1.2 |   0.8 |   1.0 |   0.8 |   0.8 |   0.8 |   0.9 |\n",
       "| 6 | Fishing, hunting and trapping                            | Newfoundland and Labrador |   3.9 |   3.9 |   3.2 |   3.5 |   3.5 |   3.1 |   3.8 |   3.6 |   3.5 |   3.7 |\n",
       "\n"
      ],
      "text/plain": [
       "  naics_industry                                          \n",
       "1 Total, all industries 6                                 \n",
       "2 Goods-producing sector 7                                \n",
       "3 Agriculture 8                                           \n",
       "4 Forestry, fishing, mining, quarrying, oil and gas 9 10  \n",
       "5 Forestry and logging and support activities for forestry\n",
       "6 Fishing, hunting and trapping                           \n",
       "  province                  2012  2013  2014  2015  2016  2017  2018  2019 \n",
       "1 Newfoundland and Labrador 239.9 241.9 239.6 239.6 234.5 225.7 226.7 229.9\n",
       "2 Newfoundland and Labrador  54.0  56.4  56.7  56.6  52.5  46.8  47.1  47.9\n",
       "3 Newfoundland and Labrador   1.5   1.4   1.3   1.5   1.3   1.7   1.6   1.5\n",
       "4 Newfoundland and Labrador  17.1  17.6  17.9  16.6  15.2  13.0  13.4  14.3\n",
       "5 Newfoundland and Labrador   0.7    NA   0.9   1.2   0.8   1.0   0.8   0.8\n",
       "6 Newfoundland and Labrador   3.9   3.9   3.2   3.5   3.5   3.1   3.8   3.6\n",
       "  2020  2021 \n",
       "1 215.5 222.8\n",
       "2  43.0  45.7\n",
       "3   1.2   1.1\n",
       "4  13.0  14.8\n",
       "5   0.8   0.9\n",
       "6   3.5   3.7"
      ]
     },
     "metadata": {},
     "output_type": "display_data"
    }
   ],
   "source": [
    "# tidying the employment dataset\n",
    "employment <- read.csv(\"../data/2_employment_per_province_2012-2021.csv\")\n",
    "\n",
    "\n",
    "# Convert selected columns from character to numeric\n",
    "columns_to_convert <- c(\"X2012\", \"X2013\", \"X2014\", \"X2015\", \"X2016\", \"X2017\", \"X2018\", \"X2019\", \"X2020\", \"X2021\")\n",
    "employment[, columns_to_convert] <- lapply(employment[, columns_to_convert], as.numeric)\n",
    "\n",
    "# renaming columns \n",
    "old_names <- c(\"NAICS_Industry\", \"Province\", \"X2012\", \"X2013\", \"X2014\", \n",
    "               \"X2015\", \"X2016\", \"X2017\", \"X2018\", \"X2019\", \"X2020\", \"X2021\")\n",
    "new_names <- c(\"naics_industry\", \"province\", \"2012\", \"2013\", \"2014\", \n",
    "               \"2015\", \"2016\", \"2017\", \"2018\", \"2019\", \"2020\", \"2021\")\n",
    "colnames(employment)[colnames(employment) %in% old_names] <- new_names\n",
    "head(employment)\n",
    "\n",
    "write.csv(employment, \"../data/tidied_employment_estimates.csv\",row.names = FALSE)"
   ]
  },
  {
   "cell_type": "code",
   "execution_count": null,
   "id": "7239b9f5-afac-4883-a820-36f88f846bc5",
   "metadata": {},
   "outputs": [],
   "source": []
  }
 ],
 "metadata": {
  "kernelspec": {
   "display_name": "R",
   "language": "R",
   "name": "ir"
  },
  "language_info": {
   "codemirror_mode": "r",
   "file_extension": ".r",
   "mimetype": "text/x-r-source",
   "name": "R",
   "pygments_lexer": "r",
   "version": "4.3.2"
  }
 },
 "nbformat": 4,
 "nbformat_minor": 5
}

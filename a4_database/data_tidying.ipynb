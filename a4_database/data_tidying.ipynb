{
 "cells": [
  {
   "cell_type": "code",
   "execution_count": 2,
   "id": "d393718f-916f-4858-b8d4-62c3af0ca77e",
   "metadata": {
    "collapsed": true,
    "jupyter": {
     "outputs_hidden": true
    }
   },
   "outputs": [
    {
     "name": "stderr",
     "output_type": "stream",
     "text": [
      "── \u001b[1mAttaching core tidyverse packages\u001b[22m ──────────────────────── tidyverse 2.0.0 ──\n",
      "\u001b[32m✔\u001b[39m \u001b[34mdplyr    \u001b[39m 1.1.4     \u001b[32m✔\u001b[39m \u001b[34mreadr    \u001b[39m 2.1.5\n",
      "\u001b[32m✔\u001b[39m \u001b[34mforcats  \u001b[39m 1.0.0     \u001b[32m✔\u001b[39m \u001b[34mstringr  \u001b[39m 1.5.1\n",
      "\u001b[32m✔\u001b[39m \u001b[34mggplot2  \u001b[39m 3.5.0     \u001b[32m✔\u001b[39m \u001b[34mtibble   \u001b[39m 3.2.1\n",
      "\u001b[32m✔\u001b[39m \u001b[34mlubridate\u001b[39m 1.9.3     \u001b[32m✔\u001b[39m \u001b[34mtidyr    \u001b[39m 1.3.1\n",
      "\u001b[32m✔\u001b[39m \u001b[34mpurrr    \u001b[39m 1.0.2     \n",
      "── \u001b[1mConflicts\u001b[22m ────────────────────────────────────────── tidyverse_conflicts() ──\n",
      "\u001b[31m✖\u001b[39m \u001b[34mdplyr\u001b[39m::\u001b[32mfilter()\u001b[39m masks \u001b[34mstats\u001b[39m::filter()\n",
      "\u001b[31m✖\u001b[39m \u001b[34mdplyr\u001b[39m::\u001b[32mlag()\u001b[39m    masks \u001b[34mstats\u001b[39m::lag()\n",
      "\u001b[36mℹ\u001b[39m Use the conflicted package (\u001b[3m\u001b[34m<http://conflicted.r-lib.org/>\u001b[39m\u001b[23m) to force all conflicts to become errors\n"
     ]
    }
   ],
   "source": [
    "library(tidyverse)\n"
   ]
  },
  {
   "cell_type": "code",
   "execution_count": null,
   "id": "2da34627-9105-4897-9f93-8ae00458dd2d",
   "metadata": {},
   "outputs": [],
   "source": [
    "populations <- read.csv(\"../data/population_ests_per_province_2012-2021.csv\")\n",
    "head(populations)\n",
    "\n",
    "# turn the columns into rows\n",
    "pops_pivoted <- populations |> pivot_longer(!Geography, names_to = \"period\", values_to = \"count\")\n",
    "# head(pops_pivoted)\n",
    "\n",
    "# split the 'period' column into quarter and year\n",
    "pops_split <- pops_pivoted %>% separate_wider_delim(period, \".\", names = c(\"quarter\", \"year\"))\n",
    "# head(pops_split)\n",
    "\n",
    "# only keep rows where quarter = Q4, because this is this population at the end of each year\n",
    "pops_sum <- pops_split |>\n",
    "            filter(quarter == \"Q4\")|>\n",
    "            select(-quarter)\n",
    "pops_sum\n",
    "write.csv(pops_sum, \"../data/tidied_population_estimates.csv\",row.names = FALSE)"
   ]
  },
  {
   "cell_type": "code",
   "execution_count": 24,
   "id": "597264e8-151c-4108-a9c3-d0071e0aeb74",
   "metadata": {},
   "outputs": [
    {
     "data": {
      "text/html": [
       "<table class=\"dataframe\">\n",
       "<caption>A data.frame: 6 × 101</caption>\n",
       "<thead>\n",
       "\t<tr><th></th><th scope=col>X</th><th scope=col>Newfoundland.and.Labrador</th><th scope=col>X.1</th><th scope=col>X.2</th><th scope=col>X.3</th><th scope=col>X.4</th><th scope=col>X.5</th><th scope=col>X.6</th><th scope=col>X.7</th><th scope=col>X.8</th><th scope=col>⋯</th><th scope=col>British.Columbia</th><th scope=col>X.82</th><th scope=col>X.83</th><th scope=col>X.84</th><th scope=col>X.85</th><th scope=col>X.86</th><th scope=col>X.87</th><th scope=col>X.88</th><th scope=col>X.89</th><th scope=col>X.90</th></tr>\n",
       "\t<tr><th></th><th scope=col>&lt;chr&gt;</th><th scope=col>&lt;dbl&gt;</th><th scope=col>&lt;chr&gt;</th><th scope=col>&lt;dbl&gt;</th><th scope=col>&lt;dbl&gt;</th><th scope=col>&lt;dbl&gt;</th><th scope=col>&lt;dbl&gt;</th><th scope=col>&lt;dbl&gt;</th><th scope=col>&lt;dbl&gt;</th><th scope=col>&lt;dbl&gt;</th><th scope=col>⋯</th><th scope=col>&lt;chr&gt;</th><th scope=col>&lt;chr&gt;</th><th scope=col>&lt;chr&gt;</th><th scope=col>&lt;chr&gt;</th><th scope=col>&lt;chr&gt;</th><th scope=col>&lt;chr&gt;</th><th scope=col>&lt;chr&gt;</th><th scope=col>&lt;chr&gt;</th><th scope=col>&lt;chr&gt;</th><th scope=col>&lt;chr&gt;</th></tr>\n",
       "</thead>\n",
       "<tbody>\n",
       "\t<tr><th scope=row>1</th><td>North American Industry Classification System (NAICS) 4 </td><td>2012.0</td><td>2013 </td><td>2014.0</td><td>2015.0</td><td>2016.0</td><td>2017.0</td><td>2018.0</td><td>2019.0</td><td>2020.0</td><td>⋯</td><td>2012   </td><td>2013   </td><td>2014   </td><td>2015   </td><td>2016   </td><td>2017   </td><td>2018   </td><td>2019   </td><td>2020   </td><td>2021   </td></tr>\n",
       "\t<tr><th scope=row>2</th><td>Total, all industries 6                                 </td><td> 239.9</td><td>241.9</td><td> 239.6</td><td> 239.6</td><td> 234.5</td><td> 225.7</td><td> 226.7</td><td> 229.9</td><td> 215.5</td><td>⋯</td><td>2,295.6</td><td>2,322.0</td><td>2,349.3</td><td>2,388.9</td><td>2,467.9</td><td>2,560.3</td><td>2,606.4</td><td>2,677.7</td><td>2,509.2</td><td>2,663.9</td></tr>\n",
       "\t<tr><th scope=row>3</th><td>Goods-producing sector 7                                </td><td>  54.0</td><td>56.4 </td><td>  56.7</td><td>  56.6</td><td>  52.5</td><td>  46.8</td><td>  47.1</td><td>  47.9</td><td>  43.0</td><td>⋯</td><td>459.6  </td><td>461.4  </td><td>468.6  </td><td>482.5  </td><td>484.6  </td><td>512.0  </td><td>516.3  </td><td>507.2  </td><td>484.0  </td><td>497.9  </td></tr>\n",
       "\t<tr><th scope=row>4</th><td>Agriculture 8                                           </td><td>   1.5</td><td>1.4  </td><td>   1.3</td><td>   1.5</td><td>   1.3</td><td>   1.7</td><td>   1.6</td><td>   1.5</td><td>   1.2</td><td>⋯</td><td>23.5   </td><td>26.8   </td><td>25.3   </td><td>25.7   </td><td>22.6   </td><td>24.1   </td><td>24.1   </td><td>24.4   </td><td>28.3   </td><td>21.2   </td></tr>\n",
       "\t<tr><th scope=row>5</th><td>Forestry, fishing, mining, quarrying, oil and gas 9 10  </td><td>  17.1</td><td>17.6 </td><td>  17.9</td><td>  16.6</td><td>  15.2</td><td>  13.0</td><td>  13.4</td><td>  14.3</td><td>  13.0</td><td>⋯</td><td>47.2   </td><td>49.9   </td><td>52.8   </td><td>53.4   </td><td>51.5   </td><td>52.4   </td><td>49.4   </td><td>46.1   </td><td>42.1   </td><td>48.4   </td></tr>\n",
       "\t<tr><th scope=row>6</th><td>Forestry and logging and support activities for forestry</td><td>   0.7</td><td>x    </td><td>   0.9</td><td>   1.2</td><td>   0.8</td><td>   1.0</td><td>   0.8</td><td>   0.8</td><td>   0.8</td><td>⋯</td><td>16.8   </td><td>19.1   </td><td>20.3   </td><td>21.5   </td><td>18.7   </td><td>18.7   </td><td>17.3   </td><td>16.1   </td><td>15.6   </td><td>18.3   </td></tr>\n",
       "</tbody>\n",
       "</table>\n"
      ],
      "text/latex": [
       "A data.frame: 6 × 101\n",
       "\\begin{tabular}{r|lllllllllllllllllllll}\n",
       "  & X & Newfoundland.and.Labrador & X.1 & X.2 & X.3 & X.4 & X.5 & X.6 & X.7 & X.8 & ⋯ & British.Columbia & X.82 & X.83 & X.84 & X.85 & X.86 & X.87 & X.88 & X.89 & X.90\\\\\n",
       "  & <chr> & <dbl> & <chr> & <dbl> & <dbl> & <dbl> & <dbl> & <dbl> & <dbl> & <dbl> & ⋯ & <chr> & <chr> & <chr> & <chr> & <chr> & <chr> & <chr> & <chr> & <chr> & <chr>\\\\\n",
       "\\hline\n",
       "\t1 & North American Industry Classification System (NAICS) 4  & 2012.0 & 2013  & 2014.0 & 2015.0 & 2016.0 & 2017.0 & 2018.0 & 2019.0 & 2020.0 & ⋯ & 2012    & 2013    & 2014    & 2015    & 2016    & 2017    & 2018    & 2019    & 2020    & 2021   \\\\\n",
       "\t2 & Total, all industries 6                                  &  239.9 & 241.9 &  239.6 &  239.6 &  234.5 &  225.7 &  226.7 &  229.9 &  215.5 & ⋯ & 2,295.6 & 2,322.0 & 2,349.3 & 2,388.9 & 2,467.9 & 2,560.3 & 2,606.4 & 2,677.7 & 2,509.2 & 2,663.9\\\\\n",
       "\t3 & Goods-producing sector 7                                 &   54.0 & 56.4  &   56.7 &   56.6 &   52.5 &   46.8 &   47.1 &   47.9 &   43.0 & ⋯ & 459.6   & 461.4   & 468.6   & 482.5   & 484.6   & 512.0   & 516.3   & 507.2   & 484.0   & 497.9  \\\\\n",
       "\t4 & Agriculture 8                                            &    1.5 & 1.4   &    1.3 &    1.5 &    1.3 &    1.7 &    1.6 &    1.5 &    1.2 & ⋯ & 23.5    & 26.8    & 25.3    & 25.7    & 22.6    & 24.1    & 24.1    & 24.4    & 28.3    & 21.2   \\\\\n",
       "\t5 & Forestry, fishing, mining, quarrying, oil and gas 9 10   &   17.1 & 17.6  &   17.9 &   16.6 &   15.2 &   13.0 &   13.4 &   14.3 &   13.0 & ⋯ & 47.2    & 49.9    & 52.8    & 53.4    & 51.5    & 52.4    & 49.4    & 46.1    & 42.1    & 48.4   \\\\\n",
       "\t6 & Forestry and logging and support activities for forestry &    0.7 & x     &    0.9 &    1.2 &    0.8 &    1.0 &    0.8 &    0.8 &    0.8 & ⋯ & 16.8    & 19.1    & 20.3    & 21.5    & 18.7    & 18.7    & 17.3    & 16.1    & 15.6    & 18.3   \\\\\n",
       "\\end{tabular}\n"
      ],
      "text/markdown": [
       "\n",
       "A data.frame: 6 × 101\n",
       "\n",
       "| <!--/--> | X &lt;chr&gt; | Newfoundland.and.Labrador &lt;dbl&gt; | X.1 &lt;chr&gt; | X.2 &lt;dbl&gt; | X.3 &lt;dbl&gt; | X.4 &lt;dbl&gt; | X.5 &lt;dbl&gt; | X.6 &lt;dbl&gt; | X.7 &lt;dbl&gt; | X.8 &lt;dbl&gt; | ⋯ ⋯ | British.Columbia &lt;chr&gt; | X.82 &lt;chr&gt; | X.83 &lt;chr&gt; | X.84 &lt;chr&gt; | X.85 &lt;chr&gt; | X.86 &lt;chr&gt; | X.87 &lt;chr&gt; | X.88 &lt;chr&gt; | X.89 &lt;chr&gt; | X.90 &lt;chr&gt; |\n",
       "|---|---|---|---|---|---|---|---|---|---|---|---|---|---|---|---|---|---|---|---|---|---|\n",
       "| 1 | North American Industry Classification System (NAICS) 4  | 2012.0 | 2013  | 2014.0 | 2015.0 | 2016.0 | 2017.0 | 2018.0 | 2019.0 | 2020.0 | ⋯ | 2012    | 2013    | 2014    | 2015    | 2016    | 2017    | 2018    | 2019    | 2020    | 2021    |\n",
       "| 2 | Total, all industries 6                                  |  239.9 | 241.9 |  239.6 |  239.6 |  234.5 |  225.7 |  226.7 |  229.9 |  215.5 | ⋯ | 2,295.6 | 2,322.0 | 2,349.3 | 2,388.9 | 2,467.9 | 2,560.3 | 2,606.4 | 2,677.7 | 2,509.2 | 2,663.9 |\n",
       "| 3 | Goods-producing sector 7                                 |   54.0 | 56.4  |   56.7 |   56.6 |   52.5 |   46.8 |   47.1 |   47.9 |   43.0 | ⋯ | 459.6   | 461.4   | 468.6   | 482.5   | 484.6   | 512.0   | 516.3   | 507.2   | 484.0   | 497.9   |\n",
       "| 4 | Agriculture 8                                            |    1.5 | 1.4   |    1.3 |    1.5 |    1.3 |    1.7 |    1.6 |    1.5 |    1.2 | ⋯ | 23.5    | 26.8    | 25.3    | 25.7    | 22.6    | 24.1    | 24.1    | 24.4    | 28.3    | 21.2    |\n",
       "| 5 | Forestry, fishing, mining, quarrying, oil and gas 9 10   |   17.1 | 17.6  |   17.9 |   16.6 |   15.2 |   13.0 |   13.4 |   14.3 |   13.0 | ⋯ | 47.2    | 49.9    | 52.8    | 53.4    | 51.5    | 52.4    | 49.4    | 46.1    | 42.1    | 48.4    |\n",
       "| 6 | Forestry and logging and support activities for forestry |    0.7 | x     |    0.9 |    1.2 |    0.8 |    1.0 |    0.8 |    0.8 |    0.8 | ⋯ | 16.8    | 19.1    | 20.3    | 21.5    | 18.7    | 18.7    | 17.3    | 16.1    | 15.6    | 18.3    |\n",
       "\n"
      ],
      "text/plain": [
       "  X                                                       \n",
       "1 North American Industry Classification System (NAICS) 4 \n",
       "2 Total, all industries 6                                 \n",
       "3 Goods-producing sector 7                                \n",
       "4 Agriculture 8                                           \n",
       "5 Forestry, fishing, mining, quarrying, oil and gas 9 10  \n",
       "6 Forestry and logging and support activities for forestry\n",
       "  Newfoundland.and.Labrador X.1   X.2    X.3    X.4    X.5    X.6    X.7   \n",
       "1 2012.0                    2013  2014.0 2015.0 2016.0 2017.0 2018.0 2019.0\n",
       "2  239.9                    241.9  239.6  239.6  234.5  225.7  226.7  229.9\n",
       "3   54.0                    56.4    56.7   56.6   52.5   46.8   47.1   47.9\n",
       "4    1.5                    1.4      1.3    1.5    1.3    1.7    1.6    1.5\n",
       "5   17.1                    17.6    17.9   16.6   15.2   13.0   13.4   14.3\n",
       "6    0.7                    x        0.9    1.2    0.8    1.0    0.8    0.8\n",
       "  X.8    ⋯ British.Columbia X.82    X.83    X.84    X.85    X.86    X.87   \n",
       "1 2020.0 ⋯ 2012             2013    2014    2015    2016    2017    2018   \n",
       "2  215.5 ⋯ 2,295.6          2,322.0 2,349.3 2,388.9 2,467.9 2,560.3 2,606.4\n",
       "3   43.0 ⋯ 459.6            461.4   468.6   482.5   484.6   512.0   516.3  \n",
       "4    1.2 ⋯ 23.5             26.8    25.3    25.7    22.6    24.1    24.1   \n",
       "5   13.0 ⋯ 47.2             49.9    52.8    53.4    51.5    52.4    49.4   \n",
       "6    0.8 ⋯ 16.8             19.1    20.3    21.5    18.7    18.7    17.3   \n",
       "  X.88    X.89    X.90   \n",
       "1 2019    2020    2021   \n",
       "2 2,677.7 2,509.2 2,663.9\n",
       "3 507.2   484.0   497.9  \n",
       "4 24.4    28.3    21.2   \n",
       "5 46.1    42.1    48.4   \n",
       "6 16.1    15.6    18.3   "
      ]
     },
     "metadata": {},
     "output_type": "display_data"
    }
   ],
   "source": [
    "employment <- read.csv(\"../data/employment_per_province_2012-2021.csv\")\n",
    "head(employment)\n",
    "\n"
   ]
  },
  {
   "cell_type": "code",
   "execution_count": null,
   "id": "d4da6ad6-afbe-4a01-8518-6225c4f18ff1",
   "metadata": {},
   "outputs": [],
   "source": []
  }
 ],
 "metadata": {
  "kernelspec": {
   "display_name": "R",
   "language": "R",
   "name": "ir"
  },
  "language_info": {
   "codemirror_mode": "r",
   "file_extension": ".r",
   "mimetype": "text/x-r-source",
   "name": "R",
   "pygments_lexer": "r",
   "version": "4.3.2"
  }
 },
 "nbformat": 4,
 "nbformat_minor": 5
}

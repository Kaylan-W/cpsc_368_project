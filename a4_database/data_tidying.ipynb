{
 "cells": [
  {
   "cell_type": "code",
   "execution_count": 2,
   "id": "d393718f-916f-4858-b8d4-62c3af0ca77e",
   "metadata": {
    "collapsed": true,
    "jupyter": {
     "outputs_hidden": true
    }
   },
   "outputs": [
    {
     "name": "stderr",
     "output_type": "stream",
     "text": [
      "── \u001b[1mAttaching core tidyverse packages\u001b[22m ──────────────────────── tidyverse 2.0.0 ──\n",
      "\u001b[32m✔\u001b[39m \u001b[34mdplyr    \u001b[39m 1.1.4     \u001b[32m✔\u001b[39m \u001b[34mreadr    \u001b[39m 2.1.5\n",
      "\u001b[32m✔\u001b[39m \u001b[34mforcats  \u001b[39m 1.0.0     \u001b[32m✔\u001b[39m \u001b[34mstringr  \u001b[39m 1.5.1\n",
      "\u001b[32m✔\u001b[39m \u001b[34mggplot2  \u001b[39m 3.5.0     \u001b[32m✔\u001b[39m \u001b[34mtibble   \u001b[39m 3.2.1\n",
      "\u001b[32m✔\u001b[39m \u001b[34mlubridate\u001b[39m 1.9.3     \u001b[32m✔\u001b[39m \u001b[34mtidyr    \u001b[39m 1.3.1\n",
      "\u001b[32m✔\u001b[39m \u001b[34mpurrr    \u001b[39m 1.0.2     \n",
      "── \u001b[1mConflicts\u001b[22m ────────────────────────────────────────── tidyverse_conflicts() ──\n",
      "\u001b[31m✖\u001b[39m \u001b[34mdplyr\u001b[39m::\u001b[32mfilter()\u001b[39m masks \u001b[34mstats\u001b[39m::filter()\n",
      "\u001b[31m✖\u001b[39m \u001b[34mdplyr\u001b[39m::\u001b[32mlag()\u001b[39m    masks \u001b[34mstats\u001b[39m::lag()\n",
      "\u001b[36mℹ\u001b[39m Use the conflicted package (\u001b[3m\u001b[34m<http://conflicted.r-lib.org/>\u001b[39m\u001b[23m) to force all conflicts to become errors\n"
     ]
    }
   ],
   "source": [
    "library(tidyverse)\n"
   ]
  },
  {
   "cell_type": "code",
   "execution_count": null,
   "id": "2da34627-9105-4897-9f93-8ae00458dd2d",
   "metadata": {},
   "outputs": [],
   "source": [
    "# tidying the populations dataset\n",
    "populations <- read.csv(\"../data/population_ests_per_province_2012-2021.csv\")\n",
    "head(populations)\n",
    "\n",
    "# turn the columns into rows\n",
    "pops_pivoted <- populations |> pivot_longer(!Geography, names_to = \"period\", values_to = \"count\")\n",
    "head(pops_pivoted)\n",
    "\n",
    "# split the 'period' column into quarter and year\n",
    "pops_split <- pops_pivoted %>% separate_wider_delim(period, \".\", names = c(\"quarter\", \"year\"))\n",
    "head(pops_split)\n",
    "\n",
    "# only keep rows where quarter = Q4, because this is this population at the end of each year\n",
    "pops_sum <- pops_split |>\n",
    "            filter(quarter == \"Q4\")|>\n",
    "            select(-quarter)\n",
    "pops_sum\n",
    "write.csv(pops_sum, \"../data/tidied_population_estimates.csv\",row.names = FALSE)"
   ]
  },
  {
   "cell_type": "code",
   "execution_count": 59,
   "id": "717f59b9-4611-4e8f-8a78-0d9123010e4b",
   "metadata": {},
   "outputs": [
    {
     "data": {
      "text/html": [
       "<table class=\"dataframe\">\n",
       "<caption>A data.frame: 6 × 41</caption>\n",
       "<thead>\n",
       "\t<tr><th></th><th scope=col>Geography</th><th scope=col>Q1.2012</th><th scope=col>Q2.2012</th><th scope=col>Q3.2012</th><th scope=col>Q4.2012</th><th scope=col>Q1.2013</th><th scope=col>Q2.2013</th><th scope=col>Q3.2013</th><th scope=col>Q4.2013</th><th scope=col>Q1.2014</th><th scope=col>⋯</th><th scope=col>Q3.2019</th><th scope=col>Q4.2019</th><th scope=col>Q1.2020</th><th scope=col>Q2.2020</th><th scope=col>Q3.2020</th><th scope=col>Q4.2020</th><th scope=col>Q1.2021</th><th scope=col>Q2.2021</th><th scope=col>Q3.2021</th><th scope=col>Q4.2021</th></tr>\n",
       "\t<tr><th></th><th scope=col>&lt;chr&gt;</th><th scope=col>&lt;int&gt;</th><th scope=col>&lt;int&gt;</th><th scope=col>&lt;int&gt;</th><th scope=col>&lt;int&gt;</th><th scope=col>&lt;int&gt;</th><th scope=col>&lt;int&gt;</th><th scope=col>&lt;int&gt;</th><th scope=col>&lt;int&gt;</th><th scope=col>&lt;int&gt;</th><th scope=col>⋯</th><th scope=col>&lt;int&gt;</th><th scope=col>&lt;int&gt;</th><th scope=col>&lt;int&gt;</th><th scope=col>&lt;int&gt;</th><th scope=col>&lt;int&gt;</th><th scope=col>&lt;int&gt;</th><th scope=col>&lt;int&gt;</th><th scope=col>&lt;int&gt;</th><th scope=col>&lt;int&gt;</th><th scope=col>&lt;int&gt;</th></tr>\n",
       "</thead>\n",
       "<tbody>\n",
       "\t<tr><th scope=row>1</th><td>Canada                   </td><td>34516032</td><td>34592192</td><td>34713395</td><td>34834973</td><td>34881794</td><td>34956567</td><td>35080992</td><td>35209597</td><td>35247023</td><td>⋯</td><td>37618495</td><td>37828162</td><td>37928208</td><td>38006941</td><td>38028638</td><td>38027406</td><td>38058291</td><td>38140918</td><td>38239864</td><td>38451454</td></tr>\n",
       "\t<tr><th scope=row>2</th><td>Newfoundland and Labrador</td><td>  526115</td><td>  525550</td><td>  526235</td><td>  527065</td><td>  527129</td><td>  527177</td><td>  526960</td><td>  527948</td><td>  528065</td><td>⋯</td><td>  527643</td><td>  528442</td><td>  528231</td><td>  527733</td><td>  526884</td><td>  526046</td><td>  525895</td><td>  526195</td><td>  527056</td><td>  528335</td></tr>\n",
       "\t<tr><th scope=row>3</th><td>Prince Edward Island     </td><td>  144208</td><td>  144365</td><td>  144415</td><td>  144396</td><td>  144041</td><td>  143807</td><td>  143942</td><td>  143943</td><td>  143828</td><td>⋯</td><td>  155792</td><td>  157025</td><td>  157494</td><td>  158401</td><td>  159193</td><td>  159179</td><td>  159240</td><td>  160334</td><td>  162133</td><td>  163775</td></tr>\n",
       "\t<tr><th scope=row>4</th><td>Nova Scotia              </td><td>  943907</td><td>  943317</td><td>  943163</td><td>  942829</td><td>  942045</td><td>  940647</td><td>  939808</td><td>  939442</td><td>  939166</td><td>⋯</td><td>  975799</td><td>  982592</td><td>  984130</td><td>  986204</td><td>  989168</td><td>  989154</td><td>  990025</td><td>  993946</td><td>  999908</td><td> 1006805</td></tr>\n",
       "\t<tr><th scope=row>5</th><td>New Brunswick            </td><td>  757039</td><td>  757024</td><td>  758121</td><td>  758408</td><td>  758026</td><td>  757854</td><td>  758261</td><td>  758379</td><td>  758713</td><td>⋯</td><td>  777387</td><td>  780907</td><td>  781054</td><td>  782512</td><td>  783432</td><td>  783814</td><td>  784950</td><td>  787002</td><td>  790802</td><td>  795755</td></tr>\n",
       "\t<tr><th scope=row>6</th><td>Quebec                   </td><td> 8028516</td><td> 8038332</td><td> 8059752</td><td> 8076838</td><td> 8081006</td><td> 8089004</td><td> 8108825</td><td> 8122462</td><td> 8123138</td><td>⋯</td><td> 8483186</td><td> 8521542</td><td> 8537376</td><td> 8550900</td><td> 8551095</td><td> 8551865</td><td> 8550561</td><td> 8556015</td><td> 8572020</td><td> 8603553</td></tr>\n",
       "</tbody>\n",
       "</table>\n"
      ],
      "text/latex": [
       "A data.frame: 6 × 41\n",
       "\\begin{tabular}{r|lllllllllllllllllllll}\n",
       "  & Geography & Q1.2012 & Q2.2012 & Q3.2012 & Q4.2012 & Q1.2013 & Q2.2013 & Q3.2013 & Q4.2013 & Q1.2014 & ⋯ & Q3.2019 & Q4.2019 & Q1.2020 & Q2.2020 & Q3.2020 & Q4.2020 & Q1.2021 & Q2.2021 & Q3.2021 & Q4.2021\\\\\n",
       "  & <chr> & <int> & <int> & <int> & <int> & <int> & <int> & <int> & <int> & <int> & ⋯ & <int> & <int> & <int> & <int> & <int> & <int> & <int> & <int> & <int> & <int>\\\\\n",
       "\\hline\n",
       "\t1 & Canada                    & 34516032 & 34592192 & 34713395 & 34834973 & 34881794 & 34956567 & 35080992 & 35209597 & 35247023 & ⋯ & 37618495 & 37828162 & 37928208 & 38006941 & 38028638 & 38027406 & 38058291 & 38140918 & 38239864 & 38451454\\\\\n",
       "\t2 & Newfoundland and Labrador &   526115 &   525550 &   526235 &   527065 &   527129 &   527177 &   526960 &   527948 &   528065 & ⋯ &   527643 &   528442 &   528231 &   527733 &   526884 &   526046 &   525895 &   526195 &   527056 &   528335\\\\\n",
       "\t3 & Prince Edward Island      &   144208 &   144365 &   144415 &   144396 &   144041 &   143807 &   143942 &   143943 &   143828 & ⋯ &   155792 &   157025 &   157494 &   158401 &   159193 &   159179 &   159240 &   160334 &   162133 &   163775\\\\\n",
       "\t4 & Nova Scotia               &   943907 &   943317 &   943163 &   942829 &   942045 &   940647 &   939808 &   939442 &   939166 & ⋯ &   975799 &   982592 &   984130 &   986204 &   989168 &   989154 &   990025 &   993946 &   999908 &  1006805\\\\\n",
       "\t5 & New Brunswick             &   757039 &   757024 &   758121 &   758408 &   758026 &   757854 &   758261 &   758379 &   758713 & ⋯ &   777387 &   780907 &   781054 &   782512 &   783432 &   783814 &   784950 &   787002 &   790802 &   795755\\\\\n",
       "\t6 & Quebec                    &  8028516 &  8038332 &  8059752 &  8076838 &  8081006 &  8089004 &  8108825 &  8122462 &  8123138 & ⋯ &  8483186 &  8521542 &  8537376 &  8550900 &  8551095 &  8551865 &  8550561 &  8556015 &  8572020 &  8603553\\\\\n",
       "\\end{tabular}\n"
      ],
      "text/markdown": [
       "\n",
       "A data.frame: 6 × 41\n",
       "\n",
       "| <!--/--> | Geography &lt;chr&gt; | Q1.2012 &lt;int&gt; | Q2.2012 &lt;int&gt; | Q3.2012 &lt;int&gt; | Q4.2012 &lt;int&gt; | Q1.2013 &lt;int&gt; | Q2.2013 &lt;int&gt; | Q3.2013 &lt;int&gt; | Q4.2013 &lt;int&gt; | Q1.2014 &lt;int&gt; | ⋯ ⋯ | Q3.2019 &lt;int&gt; | Q4.2019 &lt;int&gt; | Q1.2020 &lt;int&gt; | Q2.2020 &lt;int&gt; | Q3.2020 &lt;int&gt; | Q4.2020 &lt;int&gt; | Q1.2021 &lt;int&gt; | Q2.2021 &lt;int&gt; | Q3.2021 &lt;int&gt; | Q4.2021 &lt;int&gt; |\n",
       "|---|---|---|---|---|---|---|---|---|---|---|---|---|---|---|---|---|---|---|---|---|---|\n",
       "| 1 | Canada                    | 34516032 | 34592192 | 34713395 | 34834973 | 34881794 | 34956567 | 35080992 | 35209597 | 35247023 | ⋯ | 37618495 | 37828162 | 37928208 | 38006941 | 38028638 | 38027406 | 38058291 | 38140918 | 38239864 | 38451454 |\n",
       "| 2 | Newfoundland and Labrador |   526115 |   525550 |   526235 |   527065 |   527129 |   527177 |   526960 |   527948 |   528065 | ⋯ |   527643 |   528442 |   528231 |   527733 |   526884 |   526046 |   525895 |   526195 |   527056 |   528335 |\n",
       "| 3 | Prince Edward Island      |   144208 |   144365 |   144415 |   144396 |   144041 |   143807 |   143942 |   143943 |   143828 | ⋯ |   155792 |   157025 |   157494 |   158401 |   159193 |   159179 |   159240 |   160334 |   162133 |   163775 |\n",
       "| 4 | Nova Scotia               |   943907 |   943317 |   943163 |   942829 |   942045 |   940647 |   939808 |   939442 |   939166 | ⋯ |   975799 |   982592 |   984130 |   986204 |   989168 |   989154 |   990025 |   993946 |   999908 |  1006805 |\n",
       "| 5 | New Brunswick             |   757039 |   757024 |   758121 |   758408 |   758026 |   757854 |   758261 |   758379 |   758713 | ⋯ |   777387 |   780907 |   781054 |   782512 |   783432 |   783814 |   784950 |   787002 |   790802 |   795755 |\n",
       "| 6 | Quebec                    |  8028516 |  8038332 |  8059752 |  8076838 |  8081006 |  8089004 |  8108825 |  8122462 |  8123138 | ⋯ |  8483186 |  8521542 |  8537376 |  8550900 |  8551095 |  8551865 |  8550561 |  8556015 |  8572020 |  8603553 |\n",
       "\n"
      ],
      "text/plain": [
       "  Geography                 Q1.2012  Q2.2012  Q3.2012  Q4.2012  Q1.2013 \n",
       "1 Canada                    34516032 34592192 34713395 34834973 34881794\n",
       "2 Newfoundland and Labrador   526115   525550   526235   527065   527129\n",
       "3 Prince Edward Island        144208   144365   144415   144396   144041\n",
       "4 Nova Scotia                 943907   943317   943163   942829   942045\n",
       "5 New Brunswick               757039   757024   758121   758408   758026\n",
       "6 Quebec                     8028516  8038332  8059752  8076838  8081006\n",
       "  Q2.2013  Q3.2013  Q4.2013  Q1.2014  ⋯ Q3.2019  Q4.2019  Q1.2020  Q2.2020 \n",
       "1 34956567 35080992 35209597 35247023 ⋯ 37618495 37828162 37928208 38006941\n",
       "2   527177   526960   527948   528065 ⋯   527643   528442   528231   527733\n",
       "3   143807   143942   143943   143828 ⋯   155792   157025   157494   158401\n",
       "4   940647   939808   939442   939166 ⋯   975799   982592   984130   986204\n",
       "5   757854   758261   758379   758713 ⋯   777387   780907   781054   782512\n",
       "6  8089004  8108825  8122462  8123138 ⋯  8483186  8521542  8537376  8550900\n",
       "  Q3.2020  Q4.2020  Q1.2021  Q2.2021  Q3.2021  Q4.2021 \n",
       "1 38028638 38027406 38058291 38140918 38239864 38451454\n",
       "2   526884   526046   525895   526195   527056   528335\n",
       "3   159193   159179   159240   160334   162133   163775\n",
       "4   989168   989154   990025   993946   999908  1006805\n",
       "5   783432   783814   784950   787002   790802   795755\n",
       "6  8551095  8551865  8550561  8556015  8572020  8603553"
      ]
     },
     "metadata": {},
     "output_type": "display_data"
    },
    {
     "data": {
      "text/html": [
       "<table class=\"dataframe\">\n",
       "<caption>A tibble: 6 × 3</caption>\n",
       "<thead>\n",
       "\t<tr><th scope=col>Geography</th><th scope=col>period</th><th scope=col>count</th></tr>\n",
       "\t<tr><th scope=col>&lt;chr&gt;</th><th scope=col>&lt;chr&gt;</th><th scope=col>&lt;int&gt;</th></tr>\n",
       "</thead>\n",
       "<tbody>\n",
       "\t<tr><td>Canada</td><td>Q1.2012</td><td>34516032</td></tr>\n",
       "\t<tr><td>Canada</td><td>Q2.2012</td><td>34592192</td></tr>\n",
       "\t<tr><td>Canada</td><td>Q3.2012</td><td>34713395</td></tr>\n",
       "\t<tr><td>Canada</td><td>Q4.2012</td><td>34834973</td></tr>\n",
       "\t<tr><td>Canada</td><td>Q1.2013</td><td>34881794</td></tr>\n",
       "\t<tr><td>Canada</td><td>Q2.2013</td><td>34956567</td></tr>\n",
       "</tbody>\n",
       "</table>\n"
      ],
      "text/latex": [
       "A tibble: 6 × 3\n",
       "\\begin{tabular}{lll}\n",
       " Geography & period & count\\\\\n",
       " <chr> & <chr> & <int>\\\\\n",
       "\\hline\n",
       "\t Canada & Q1.2012 & 34516032\\\\\n",
       "\t Canada & Q2.2012 & 34592192\\\\\n",
       "\t Canada & Q3.2012 & 34713395\\\\\n",
       "\t Canada & Q4.2012 & 34834973\\\\\n",
       "\t Canada & Q1.2013 & 34881794\\\\\n",
       "\t Canada & Q2.2013 & 34956567\\\\\n",
       "\\end{tabular}\n"
      ],
      "text/markdown": [
       "\n",
       "A tibble: 6 × 3\n",
       "\n",
       "| Geography &lt;chr&gt; | period &lt;chr&gt; | count &lt;int&gt; |\n",
       "|---|---|---|\n",
       "| Canada | Q1.2012 | 34516032 |\n",
       "| Canada | Q2.2012 | 34592192 |\n",
       "| Canada | Q3.2012 | 34713395 |\n",
       "| Canada | Q4.2012 | 34834973 |\n",
       "| Canada | Q1.2013 | 34881794 |\n",
       "| Canada | Q2.2013 | 34956567 |\n",
       "\n"
      ],
      "text/plain": [
       "  Geography period  count   \n",
       "1 Canada    Q1.2012 34516032\n",
       "2 Canada    Q2.2012 34592192\n",
       "3 Canada    Q3.2012 34713395\n",
       "4 Canada    Q4.2012 34834973\n",
       "5 Canada    Q1.2013 34881794\n",
       "6 Canada    Q2.2013 34956567"
      ]
     },
     "metadata": {},
     "output_type": "display_data"
    }
   ],
   "source": [
    "# tidying the populations dataset\n",
    "populations <- read.csv(\"../data/population_per_province_data.csv\")\n",
    "head(populations)\n",
    "\n",
    "# turn the columns into rows\n",
    "pops_pivoted <- populations |> pivot_longer(!Geography, names_to = \"period\", values_to = \"count\")\n",
    "head(pops_pivoted)\n",
    "\n",
    "# # split the 'period' column into quarter and year\n",
    "# pops_split <- pops_pivoted %>% separate_wider_delim(period, \".\", names = c(\"quarter\", \"year\"))\n",
    "# head(pops_split)\n",
    "\n",
    "# # # only keep rows where quarter = Q4, because this is this population at the end of each year\n",
    "# pops_sum <- pops_split |>\n",
    "#             filter(quarter == \"Q4\")|>\n",
    "#             select(-quarter)\n",
    "# pops_sum\n",
    "# write.csv(pops_sum, \"../data/tidied_population_estimates.csv\",row.names = FALSE)"
   ]
  },
  {
   "cell_type": "code",
   "execution_count": 65,
   "id": "30a98475-9147-4605-90f0-17af020978bd",
   "metadata": {},
   "outputs": [
    {
     "data": {
      "text/html": [
       "<table class=\"dataframe\">\n",
       "<caption>A tibble: 6 × 4</caption>\n",
       "<thead>\n",
       "\t<tr><th scope=col>naics_industry</th><th scope=col>province</th><th scope=col>year</th><th scope=col>count</th></tr>\n",
       "\t<tr><th scope=col>&lt;chr&gt;</th><th scope=col>&lt;chr&gt;</th><th scope=col>&lt;chr&gt;</th><th scope=col>&lt;dbl&gt;</th></tr>\n",
       "</thead>\n",
       "<tbody>\n",
       "\t<tr><td>Manufacturing</td><td>Canada</td><td>2012</td><td>1776.6</td></tr>\n",
       "\t<tr><td>Manufacturing</td><td>Canada</td><td>2013</td><td>1732.6</td></tr>\n",
       "\t<tr><td>Manufacturing</td><td>Canada</td><td>2014</td><td>1721.7</td></tr>\n",
       "\t<tr><td>Manufacturing</td><td>Canada</td><td>2015</td><td>1734.4</td></tr>\n",
       "\t<tr><td>Manufacturing</td><td>Canada</td><td>2016</td><td>1729.8</td></tr>\n",
       "\t<tr><td>Manufacturing</td><td>Canada</td><td>2017</td><td>1767.5</td></tr>\n",
       "</tbody>\n",
       "</table>\n"
      ],
      "text/latex": [
       "A tibble: 6 × 4\n",
       "\\begin{tabular}{llll}\n",
       " naics\\_industry & province & year & count\\\\\n",
       " <chr> & <chr> & <chr> & <dbl>\\\\\n",
       "\\hline\n",
       "\t Manufacturing & Canada & 2012 & 1776.6\\\\\n",
       "\t Manufacturing & Canada & 2013 & 1732.6\\\\\n",
       "\t Manufacturing & Canada & 2014 & 1721.7\\\\\n",
       "\t Manufacturing & Canada & 2015 & 1734.4\\\\\n",
       "\t Manufacturing & Canada & 2016 & 1729.8\\\\\n",
       "\t Manufacturing & Canada & 2017 & 1767.5\\\\\n",
       "\\end{tabular}\n"
      ],
      "text/markdown": [
       "\n",
       "A tibble: 6 × 4\n",
       "\n",
       "| naics_industry &lt;chr&gt; | province &lt;chr&gt; | year &lt;chr&gt; | count &lt;dbl&gt; |\n",
       "|---|---|---|---|\n",
       "| Manufacturing | Canada | 2012 | 1776.6 |\n",
       "| Manufacturing | Canada | 2013 | 1732.6 |\n",
       "| Manufacturing | Canada | 2014 | 1721.7 |\n",
       "| Manufacturing | Canada | 2015 | 1734.4 |\n",
       "| Manufacturing | Canada | 2016 | 1729.8 |\n",
       "| Manufacturing | Canada | 2017 | 1767.5 |\n",
       "\n"
      ],
      "text/plain": [
       "  naics_industry province year count \n",
       "1 Manufacturing  Canada   2012 1776.6\n",
       "2 Manufacturing  Canada   2013 1732.6\n",
       "3 Manufacturing  Canada   2014 1721.7\n",
       "4 Manufacturing  Canada   2015 1734.4\n",
       "5 Manufacturing  Canada   2016 1729.8\n",
       "6 Manufacturing  Canada   2017 1767.5"
      ]
     },
     "metadata": {},
     "output_type": "display_data"
    }
   ],
   "source": [
    "# tidying the employment dataset\n",
    "employment <- read.csv(\"../data/manufacturing_employment_data.csv\")\n",
    "# head(employment)\n",
    "\n",
    "# # renaming columns \n",
    "old_names <- c(\"naics_industry\", \"Province\", \"X2012\", \"X2013\", \"X2014\", \n",
    "               \"X2015\", \"X2016\", \"X2017\", \"X2018\", \"X2019\", \"X2020\", \"X2021\")\n",
    "new_names <- c(\"naics_industry\", \"province\", \"2012\", \"2013\", \"2014\", \n",
    "               \"2015\", \"2016\", \"2017\", \"2018\", \"2019\", \"2020\", \"2021\")\n",
    "colnames(employment)[colnames(employment) %in% old_names] <- new_names\n",
    "# head(employment)\n",
    "\n",
    "emp_pivoted <- employment |> pivot_longer(!naics_industry:province, names_to = \"year\", values_to = \"count\")\n",
    "head(emp_pivoted)\n",
    "\n",
    "write.csv(emp_pivoted, \"../data/tidied_employment_estimates.csv\",row.names = FALSE)"
   ]
  },
  {
   "cell_type": "code",
   "execution_count": null,
   "id": "7239b9f5-afac-4883-a820-36f88f846bc5",
   "metadata": {},
   "outputs": [],
   "source": []
  }
 ],
 "metadata": {
  "kernelspec": {
   "display_name": "R",
   "language": "R",
   "name": "ir"
  },
  "language_info": {
   "codemirror_mode": "r",
   "file_extension": ".r",
   "mimetype": "text/x-r-source",
   "name": "R",
   "pygments_lexer": "r",
   "version": "4.3.2"
  }
 },
 "nbformat": 4,
 "nbformat_minor": 5
}

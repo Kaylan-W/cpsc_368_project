{
 "cells": [
  {
   "cell_type": "markdown",
   "id": "6463501d-dcc3-4918-b6da-5ebf75f9d205",
   "metadata": {},
   "source": [
    "# CPSC 368 Group Project Brainstorming\n",
    "<br><br>\n"
   ]
  },
  {
   "cell_type": "markdown",
   "id": "b3e27a58-69a0-4e21-bab7-3a8021b72452",
   "metadata": {},
   "source": [
    "### Brief list of possible topics:\n",
    "\n",
    "Space \n",
    "1. Which countries are the main contributors to space debris?\n",
    "2. Will our production of space debris cause Earth's low Earth Orbit to become inaccessible?\n",
    "   - Kessler Syndrome\n",
    "3. Sustainably mining space resources\n",
    "    - Moon, mars, asteroids\n",
    "4. Sustainable practices for space travel\n",
    "    - fuel, debris, emissions, footprint on other bodies in space\n",
    "5. Correlations between space weather events and climate on Earth\n",
    "    - Solar flares, eclipses, cosmic rays, radiation, ozone layer\n",
    "\n",
    "<br>\n",
    "\n",
    "Oceans\n",
    "1. Is sea pollution increasing or decreasing?\n",
    "    - great pacific garbage patch\n",
    "2. Increases in volcanic activity\n",
    "    - earthquake strength, damage done, ash pollution\n",
    "3. Coral reef health\n",
    "    - correlation with tourism, weather events, earthquakes, pollution\n",
    "5. Ocean Current Energy Potential\n",
    "    - potential for harnessing energy from ocean currents. Analyze data on ocean currents, tides, and seabed conditions to identify suitable locations for underwater energy turbines.\n",
    "6. Plankton Blooms and Carbon Sequestration\n",
    "    - Their role in the carbon cycle, ability to cultivate\n",
    "  \n",
    "<br>\n",
    "\n",
    "The Economy\n",
    "1. Fast fashion?"
   ]
  },
  {
   "cell_type": "markdown",
   "id": "842e946d-ef61-4410-aa7a-09717bb99d9f",
   "metadata": {},
   "source": [
    "## Idea #1"
   ]
  },
  {
   "cell_type": "markdown",
   "id": "81e43676-cd1f-4898-86b7-b4c1e241e05a",
   "metadata": {
    "jupyter": {
     "source_hidden": true
    }
   },
   "source": [
    "### 1. Explain the proposed idea.\n",
    "This idea ...\n",
    "<br><br>\n",
    "### 2. Identify how the idea relates to the topic chosen by the in-class vote.\n",
    "This idea is related to climate and sustainability ...\n",
    "<br><br>\n",
    "\n",
    "### 3. List three datasets you wish to work with.\n",
    "**Dataset #1:**\n",
    "- Link:\n",
    "- Trustworthiness and reliability:\n",
    "<br><br>\n",
    "\n",
    "**Dataset #2:**\n",
    "- Link:\n",
    "- Trustworthiness and reliability:\n",
    "<br><br>\n",
    "\n",
    "**Dataset #3:**\n",
    "- Link:\n",
    "- Trustworthiness and reliability:\n",
    "<br><br>\n",
    "### 4. Describe the data analysis you wish to perform. Specifically, explain:\n",
    "**What you are trying to analyze and how will you go about analyzing it?**\n",
    "- We are analyzing ...\n",
    "<br><br>\n",
    "\n",
    "**Why is this the best method to analyze the data?** \n",
    "- This is the best method because ...\n",
    "<br><br>\n",
    "\n",
    "**List two other possible ways to approach the problem and explain why you are not using these approaches.** \n",
    "- Approach #1: ...\n",
    "    - This approach will not be used because ...\n",
    "<br>\n",
    "- Approach #2: ...\n",
    "    - This approach will not be used because ...\n",
    "<br><br>\n",
    "\n",
    "**What is the purpose of the data analysis, why is this important?** \n",
    "- This topic is important because ...\n",
    "<br><br>\n",
    "\n",
    "**Identify the statistical rigour of the methodology you are choosing.** \n",
    "- The chosen method is ..."
   ]
  },
  {
   "cell_type": "markdown",
   "id": "d1e66080-be19-405e-8d87-c91469cc20ab",
   "metadata": {},
   "source": [
    "<br><br><br>\n",
    "\n",
    "---\n",
    "\n",
    "## Idea #2"
   ]
  },
  {
   "cell_type": "markdown",
   "id": "2df89b17-6c2e-40f8-8380-4ae51901414a",
   "metadata": {
    "jupyter": {
     "source_hidden": true
    }
   },
   "source": [
    "### 1. Explain the proposed idea.\n",
    "This idea ...\n",
    "<br><br>\n",
    "### 2. Identify how the idea relates to the topic chosen by the in-class vote.\n",
    "This idea is related to climate and sustainability ...\n",
    "<br><br>\n",
    "\n",
    "### 3. List three datasets you wish to work with.\n",
    "**Dataset #1:**\n",
    "- Link:\n",
    "- Trustworthiness and reliability:\n",
    "<br><br>\n",
    "\n",
    "**Dataset #2:**\n",
    "- Link:\n",
    "- Trustworthiness and reliability:\n",
    "<br><br>\n",
    "\n",
    "**Dataset #3:**\n",
    "- Link:\n",
    "- Trustworthiness and reliability:\n",
    "<br><br>\n",
    "### 4. Describe the data analysis you wish to perform. Specifically, explain:\n",
    "**What you are trying to analyze and how will you go about analyzing it?**\n",
    "- We are analyzing ...\n",
    "<br><br>\n",
    "\n",
    "**Why is this the best method to analyze the data?** \n",
    "- This is the best method because ...\n",
    "<br><br>\n",
    "\n",
    "**List two other possible ways to approach the problem and explain why you are not using these approaches.** \n",
    "- Approach #1: ...\n",
    "    - This approach will not be used because ...\n",
    "<br>\n",
    "- Approach #2: ...\n",
    "    - This approach will not be used because ...\n",
    "<br><br>\n",
    "\n",
    "**What is the purpose of the data analysis, why is this important?** \n",
    "- This topic is important because ...\n",
    "<br><br>\n",
    "\n",
    "**Identify the statistical rigour of the methodology you are choosing.** \n",
    "- The chosen method is ..."
   ]
  },
  {
   "cell_type": "markdown",
   "id": "4ac1df49-8384-4dd0-86d3-a83078d824d8",
   "metadata": {},
   "source": [
    "<br><br><br>\n",
    "\n",
    "---\n",
    "\n",
    "## Idea #3"
   ]
  },
  {
   "cell_type": "markdown",
   "id": "8286fbaf-6056-4a58-8fe5-099b4519e476",
   "metadata": {
    "jupyter": {
     "source_hidden": true
    }
   },
   "source": [
    "### 1. Explain the proposed idea.\n",
    "This idea ...\n",
    "<br><br>\n",
    "### 2. Identify how the idea relates to the topic chosen by the in-class vote.\n",
    "This idea is related to climate and sustainability ...\n",
    "<br><br>\n",
    "\n",
    "### 3. List three datasets you wish to work with.\n",
    "**Dataset #1:**\n",
    "- Link:\n",
    "- Trustworthiness and reliability:\n",
    "<br><br>\n",
    "\n",
    "**Dataset #2:**\n",
    "- Link:\n",
    "- Trustworthiness and reliability:\n",
    "<br><br>\n",
    "\n",
    "**Dataset #3:**\n",
    "- Link:\n",
    "- Trustworthiness and reliability:\n",
    "<br><br>\n",
    "### 4. Describe the data analysis you wish to perform. Specifically, explain:\n",
    "**What you are trying to analyze and how will you go about analyzing it?**\n",
    "- We are analyzing ...\n",
    "<br><br>\n",
    "\n",
    "**Why is this the best method to analyze the data?** \n",
    "- This is the best method because ...\n",
    "<br><br>\n",
    "\n",
    "**List two other possible ways to approach the problem and explain why you are not using these approaches.** \n",
    "- Approach #1: ...\n",
    "    - This approach will not be used because ...\n",
    "<br>\n",
    "- Approach #2: ...\n",
    "    - This approach will not be used because ...\n",
    "<br><br>\n",
    "\n",
    "**What is the purpose of the data analysis, why is this important?** \n",
    "- This topic is important because ...\n",
    "<br><br>\n",
    "\n",
    "**Identify the statistical rigour of the methodology you are choosing.** \n",
    "- The chosen method is ..."
   ]
  }
 ],
 "metadata": {
  "kernelspec": {
   "display_name": "Python 3 (ipykernel)",
   "language": "python",
   "name": "python3"
  },
  "language_info": {
   "codemirror_mode": {
    "name": "ipython",
    "version": 3
   },
   "file_extension": ".py",
   "mimetype": "text/x-python",
   "name": "python",
   "nbconvert_exporter": "python",
   "pygments_lexer": "ipython3",
   "version": "3.11.7"
  }
 },
 "nbformat": 4,
 "nbformat_minor": 5
}

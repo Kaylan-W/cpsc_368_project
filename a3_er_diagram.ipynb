{
 "cells": [
  {
   "cell_type": "markdown",
   "id": "0a28af24-1d06-4633-9087-b5560ff80e1b",
   "metadata": {},
   "source": [
    "IDEA #3\n",
    "\n",
    "Updated Datasets:\n",
    "\n",
    "1. Labour force characteristics by industry, annual: https://www150.statcan.gc.ca/t1/tbl1/en/tv.action?pid=1410002301&pickMembers%5B0%5D=1.1&pickMembers%5B1%5D=2.2&pickMembers%5B2%5D=4.1&pickMembers%5B3%5D=5.1&cubeTimeFrame.startYear=2012&cubeTimeFrame.endYear=2021&referencePeriods=20120101%2C20210101\n",
    "\n",
    "2. Manufacturing industries, total annual energy fuel consumption:https://www150.statcan.gc.ca/t1/tbl1/en/cv.action?pid=2510002401\n",
    "   - Subsetting the data: Geography -> Select only Canada; Sector -> Deselect all except \"Total, industries\" -> Plus sign -> Disable all except those that start with [BS3...]; Reference Period -> 2012-2021)\n",
    "\n",
    "4. Physical flow account for greenhouse gas emissions : https://www150.statcan.gc.ca/t1/tbl1/en/cv.action?pid=3810009701\n",
    "\n",
    "Analysis Characteristics:\n",
    "- 2012 to 2021\n",
    "- Considering the energy consumption, GHG emission and employment rates of different **manufacturing** industries\n",
    "- The datasets use different classifications for the sub types of manufacturing industries\n",
    "    - Datasets 1 and 2 use: https://www23.statcan.gc.ca/imdb/p3VD.pl?Function=getVD&TVD=1181553&CVD=1181554&CPV=31-33&CST=01012017&CLV=1&MLV=5 \n",
    "    - Datasets 1 use: https://www23.statcan.gc.ca/imdb/p3VD.pl?Function=getVD&TVD=137240&CVD=137243&CPV=BS3A0&CST=01011960&CLV=3&MLV=7"
   ]
  }
 ],
 "metadata": {
  "kernelspec": {
   "display_name": "R",
   "language": "R",
   "name": "ir"
  },
  "language_info": {
   "codemirror_mode": "r",
   "file_extension": ".r",
   "mimetype": "text/x-r-source",
   "name": "R",
   "pygments_lexer": "r",
   "version": "4.3.2"
  }
 },
 "nbformat": 4,
 "nbformat_minor": 5
}

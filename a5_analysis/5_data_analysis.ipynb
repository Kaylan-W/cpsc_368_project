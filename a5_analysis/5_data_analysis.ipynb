{
 "cells": [
  {
   "cell_type": "markdown",
   "id": "3bdee8d8-6e76-4a4e-86f9-7d5b5345e36d",
   "metadata": {},
   "source": [
    "<br><br>\n",
    "\n",
    "## Connecting to the Database\n",
    "\n",
    "---"
   ]
  },
  {
   "cell_type": "code",
   "execution_count": 1,
   "id": "fc48a2af-98d2-478e-8aac-f5f696079d1f",
   "metadata": {},
   "outputs": [],
   "source": [
    "# Import statements\n",
    "import pandas as pd\n",
    "import numpy as np\n",
    "import matplotlib.pyplot as plt\n",
    "import oracledb\n",
    "from sklearn.compose import make_column_transformer\n",
    "from sklearn.preprocessing import OneHotEncoder\n",
    "from sklearn.linear_model import RidgeCV \n",
    "from sklearn.pipeline import make_pipeline\n",
    "from sklearn.metrics import mean_squared_error, r2_score\n",
    "from sklearn.model_selection import (\n",
    "    GridSearchCV,\n",
    "    cross_val_score,\n",
    "    cross_validate,\n",
    "    train_test_split,\n",
    ")"
   ]
  },
  {
   "cell_type": "code",
   "execution_count": 2,
   "id": "f799dd02-135e-4f51-b9ff-96c5aed89048",
   "metadata": {},
   "outputs": [],
   "source": [
    "# Connecting to the database\n",
    "dsn = oracledb.makedsn(\"localhost\", 1522, service_name=\"stu\")\n",
    "connection = oracledb.connect(user=\"ora_msan99\", password=\"a85263259\", dsn=dsn)"
   ]
  },
  {
   "cell_type": "code",
   "execution_count": 3,
   "id": "d7f87811-5c77-4731-a08f-b13dffe31a33",
   "metadata": {},
   "outputs": [],
   "source": [
    "# Extract data from the database tables \n",
    "Province=[]\n",
    "cur = connection.cursor()\n",
    "for row in cur.execute(\"select * from Province\"):\n",
    "    Province.append(row)\n",
    "cur.close()\n",
    "\n",
    "Industry=[]\n",
    "cur = connection.cursor()\n",
    "for row in cur.execute(\"select * from Industry\"):\n",
    "    Industry.append(row)  \n",
    "cur.close()\n",
    "\n",
    "IndustryMapping=[]\n",
    "cur = connection.cursor()\n",
    "for row in cur.execute(\"select * from IndustryMapping\"):\n",
    "    IndustryMapping.append(row)    \n",
    "cur.close()\n",
    "\n",
    "Emissions=[]\n",
    "cur = connection.cursor()\n",
    "for row in cur.execute(\"select * from Emissions\"):\n",
    "    Emissions.append(row)   \n",
    "cur.close()\n"
   ]
  },
  {
   "cell_type": "code",
   "execution_count": 4,
   "id": "989bc4fa-2e26-40de-840c-bf593c071c59",
   "metadata": {},
   "outputs": [],
   "source": [
    "# Store the data from the database as dataframes \n",
    "emissions = pd.DataFrame(Emissions,columns=['province','IndustryName', 'IOIC', 'year',  'emissions', 'industry_code'])\n",
    "\n",
    "industry = pd.DataFrame(IndustryMapping,columns=['IndustryCode', 'IndustryName', 'NAICS', 'IOIC', 'Durable'])\n",
    "\n",
    "population = pd.DataFrame(Province,columns=['province', 'year', 'Population'])\n",
    "\n",
    "employment = pd.DataFrame(Industry,columns=['Good_Type', 'province', 'year','No_Employed'])"
   ]
  },
  {
   "cell_type": "markdown",
   "id": "3a138f51-f9ce-4f96-ab1e-df9eb06c1a1f",
   "metadata": {},
   "source": [
    "<br><br>\n",
    "\n",
    "## Tidying the Data\n",
    "\n",
    "---"
   ]
  },
  {
   "cell_type": "code",
   "execution_count": 5,
   "id": "91a884b8-02f0-4cbb-b5ca-3d12a32149ad",
   "metadata": {},
   "outputs": [],
   "source": [
    "# TIDY THE EMISSIONS DATASET AND CALCULATE EMISSIONS PER INDUSTRY TYPE\n",
    "# join emissions and industry together\n",
    "emissions_industry = pd.merge(emissions, industry, left_on=\"industry_code\", right_on=\"IndustryCode\")\n",
    "\n",
    "# filter out canada in the emissions_industry dataset\n",
    "emissions_industry = emissions_industry[emissions_industry[\"province\"] != \"Canada\"]\n",
    "\n",
    "# drop duplicate columns\n",
    "emissions_industry = emissions_industry[['province','year','emissions','industry_code','Durable']]\n",
    "\n",
    "# create a new column called ProvinceYearDurable in EmissionsIndustry\n",
    "emissions_industry[\"ProvinceYearDurable\"] = emissions_industry[\"province\"] + emissions_industry[\"year\"].astype(str) + emissions_industry[\"Durable\"].astype(str)\n",
    "\n",
    "# remove households, put in separate dataframe\n",
    "emissions_household = emissions_industry[emissions_industry[\"industry_code\"].isin(['99999', '99998'])]\n",
    "emissions_industry = emissions_industry[~emissions_industry[\"industry_code\"].isin(['99999', '99998'])]\n",
    "\n",
    "emissions_household_tidy = emissions_household.drop(columns=[\"industry_code\"])\n",
    "\n",
    "# group by Province and Year to calculate the total  emissions for each household \n",
    "grouped_emissions_hh = pd.DataFrame(emissions_household_tidy.groupby(['province', 'year'])['emissions'].sum())\n",
    "grouped_emissions_hh = grouped_emissions_hh.reset_index()\n",
    "grouped_emissions_hh[\"ProvinceYear\"] = grouped_emissions_hh[\"province\"] + grouped_emissions_hh[\"year\"].astype(str)\n",
    "\n",
    "# group by Province, Year, and Durable to calculate the total emissions for each good type\n",
    "grouped_emissions = pd.DataFrame(emissions_industry.groupby(['province', 'year', 'Durable'])['emissions'].sum())\n",
    "grouped_emissions = grouped_emissions.reset_index()\n",
    "grouped_emissions[\"ProvinceYearDurable\"] = grouped_emissions[\"province\"] + grouped_emissions[\"year\"].astype(str) + grouped_emissions[\"Durable\"].astype(str)"
   ]
  },
  {
   "cell_type": "markdown",
   "id": "1c41543e-81f3-4d00-aa48-6e5792666a53",
   "metadata": {},
   "source": [
    "<br>"
   ]
  },
  {
   "cell_type": "code",
   "execution_count": 6,
   "id": "30f1618c-e939-409a-97fd-fe7f023f4807",
   "metadata": {},
   "outputs": [],
   "source": [
    "# TIDY THE EMPLOYMENT DATASET AND CALCULATE EMISSIONS PER EMPLOYEE \n",
    "# remove rows where Good_Type = Manufacturing or province = Canada \n",
    "employment_reduced = employment[~((employment[\"Good_Type\"] == \"Manufacturing\") | (employment[\"province\"] == \"Canada\"))]\n",
    "\n",
    "# create a binary variable from Good_Type\n",
    "durable_mapping = {'Durables': 1, 'Non-durables': 0}\n",
    "\n",
    "# define a function to assign durable values based on Good_Type\n",
    "def assign_durable(row):\n",
    "  good_type_value = row['Good_Type']\n",
    "  return durable_mapping.get(good_type_value, -1)  # Assign -1 for missing values (optional)\n",
    "\n",
    "# create a new DataFrame with desired columns and apply function\n",
    "employment_tidy = employment_reduced[['province', 'year', 'No_Employed']].assign(durable=employment.apply(assign_durable, axis=1))\n",
    "\n",
    "# create a new column called ProvinceYearDurable in employment_tidy\n",
    "employment_tidy[\"ProvinceYearDurable\"] = employment_tidy[\"province\"] + employment_tidy[\"year\"].astype(str) + employment_tidy[\"durable\"].astype(str)\n",
    "\n",
    "# join the grouped_emissions with employment_tidy, drop column used to merge the dataframes\n",
    "emissions_industry_employment = pd.merge(grouped_emissions, employment_tidy, on=\"ProvinceYearDurable\")\n",
    "emissions_industry_employment = emissions_industry_employment.drop(columns=\"ProvinceYearDurable\")\n",
    "\n",
    "# rename and drop duplicate columns \n",
    "emissions_industry_employment.drop(columns=[\"province_y\", \"year_y\", \"durable\"], inplace=True)\n",
    "emissions_industry_employment.rename(columns={'province_x': 'province', 'year_x': 'year','Durable': 'durable', 'No_Employed': 'no_employed'}, inplace=True)\n",
    "\n",
    "# calculate the emissions per employee by dividing emissions by No_Employed \n",
    "# No_Employed will first be multiplied by 1000 as the current data is scaled down by 1000\n",
    "emissions_industry_employment[\"no_employed_rescaled\"] = emissions_industry_employment[\"no_employed\"] * 1000\n",
    "emissions_industry_employment[\"emissions_per_employee\"] = emissions_industry_employment[\"emissions\"]/emissions_industry_employment[\"no_employed_rescaled\"]"
   ]
  },
  {
   "cell_type": "markdown",
   "id": "6465a004-dd7c-4d8a-96f2-4882fec0351d",
   "metadata": {},
   "source": [
    "<br>"
   ]
  },
  {
   "cell_type": "code",
   "execution_count": 7,
   "id": "1325c37c-b111-42d9-af96-f75df67a1add",
   "metadata": {},
   "outputs": [
    {
     "name": "stderr",
     "output_type": "stream",
     "text": [
      "/var/folders/1x/18g3rdbx5rz1sbzhnp6ywcvr0000gn/T/ipykernel_42897/1247162100.py:7: SettingWithCopyWarning: \n",
      "A value is trying to be set on a copy of a slice from a DataFrame.\n",
      "Try using .loc[row_indexer,col_indexer] = value instead\n",
      "\n",
      "See the caveats in the documentation: https://pandas.pydata.org/pandas-docs/stable/user_guide/indexing.html#returning-a-view-versus-a-copy\n",
      "  population_reduced[\"ProvinceYear\"] = population_reduced[\"province\"] + population_reduced[\"year\"].astype(str)\n"
     ]
    }
   ],
   "source": [
    "# TIDY THE POPULATION DATASET AND CALCULATE EMISSIONS PER CAPITA FOR HOUSEHOLDS\n",
    "# remove rows where province is Canada \n",
    "population_reduced = population[population['province'] != \"Canada\"]\n",
    "population_reduced.head()\n",
    "\n",
    "# make a Province Year key\n",
    "population_reduced[\"ProvinceYear\"] = population_reduced[\"province\"] + population_reduced[\"year\"].astype(str)\n",
    "\n",
    "# join  grouped_emissions_hh with population_reduced \n",
    "emissions_household_population = pd.merge(grouped_emissions_hh, population_reduced, on=\"ProvinceYear\")\n",
    "\n",
    "# rename and drop duplicate columns\n",
    "emissions_household_population.drop(columns=[\"ProvinceYear\",\"province_y\", \"year_y\"], inplace=True) \n",
    "emissions_household_population.rename(columns={'province_x': 'province', 'year_x': 'year', 'Population': 'population'}, inplace=True)\n",
    "\n",
    "# calculate the emissions per capita by dividing emissions by population \n",
    "emissions_household_population[\"emissions_per_capita\"] = emissions_household_population[\"emissions\"]/emissions_household_population[\"population\"]"
   ]
  },
  {
   "cell_type": "markdown",
   "id": "26c545d8-4e95-4501-a506-70bfda885278",
   "metadata": {},
   "source": [
    "<br><br>\n",
    "\n",
    "## Creating the Linear Regression Models\n",
    "\n",
    "---"
   ]
  },
  {
   "cell_type": "markdown",
   "id": "85e456de-d7d3-4d7b-813c-5adaf5a63b95",
   "metadata": {},
   "source": [
    "In this section, we will create two linear regression models. For both models we will:\n",
    "- split the related dataset into 70% training and 30% testing data. "
   ]
  },
  {
   "cell_type": "markdown",
   "id": "b8e4129b-3499-457f-925b-ca597f9aca2d",
   "metadata": {},
   "source": [
    "<br>\n",
    "\n",
    "### Model 1: \n",
    "- This model will help us investigate how greenhouse gas emissions produced by durable and non-durable industries have changed between 2012 and 2021.\n",
    "- lm(emissions_per_employee ~ durable + province + year)"
   ]
  },
  {
   "cell_type": "code",
   "execution_count": 8,
   "id": "22f74698-4cbf-42bf-89c1-1e623c18cf88",
   "metadata": {},
   "outputs": [],
   "source": [
    "# convert columns to categorical variables \n",
    "emissions_industry_employment['province'] = pd.Categorical(emissions_industry_employment['province'])   \n",
    "emissions_industry_employment['year'] = pd.Categorical(emissions_industry_employment['year'])   \n",
    "emissions_industry_employment['durable'] = pd.Categorical(emissions_industry_employment['durable'])   \n",
    "# print(emissions_industry_employment.dtypes)\n",
    "\n",
    "# identify the independent variables \n",
    "X = emissions_industry_employment[['province', 'year', 'durable']]\n",
    "\n",
    "# Split data into training and testing sets \n",
    "industry_X_train, industry_X_test, industry_y_train, industry_y_test = train_test_split(X, emissions_industry_employment['emissions_per_employee'], \n",
    "                                                                                        test_size=0.3, random_state=42)"
   ]
  },
  {
   "cell_type": "code",
   "execution_count": 9,
   "id": "84352b02-9fab-4a0f-b7d1-5d8a30023301",
   "metadata": {},
   "outputs": [],
   "source": [
    "# apply one hot encoding to the categorical independent variables \n",
    "categorical_feats = [\"province\", \"year\", \"durable\"] \n",
    "\n",
    "categorical_transformer = make_pipeline(\n",
    "    OneHotEncoder(handle_unknown=\"ignore\", sparse_output=False))\n",
    "\n",
    "preprocessor = make_column_transformer(\n",
    "    (categorical_transformer, categorical_feats))"
   ]
  },
  {
   "cell_type": "code",
   "execution_count": 10,
   "id": "1c5cbf9c-7d1a-42d6-9cea-fc37559074ae",
   "metadata": {},
   "outputs": [],
   "source": [
    "alphas = 10.0 ** np.arange(-6, 6, 1)\n",
    "\n",
    "# Calling fit to examine all the transformers.\n",
    "preprocessor.fit(industry_X_train)    \n",
    "lr = make_pipeline(preprocessor, RidgeCV(alphas=alphas, cv=10))\n",
    "lr.fit(industry_X_train, industry_y_train);\n",
    "lr_preds = lr.predict(industry_X_test)\n",
    "\n",
    "# Append the predictions and actual values as a new column to the original DataFrame  \n",
    "industry_X_test['predicted_emissions'] = lr_preds\n",
    "industry_X_test['actual_emissions'] = industry_y_test"
   ]
  },
  {
   "cell_type": "code",
   "execution_count": 12,
   "id": "ed480b13-92d1-4345-b050-ac17f28db6f8",
   "metadata": {},
   "outputs": [
    {
     "data": {
      "text/html": [
       "<div>\n",
       "<style scoped>\n",
       "    .dataframe tbody tr th:only-of-type {\n",
       "        vertical-align: middle;\n",
       "    }\n",
       "\n",
       "    .dataframe tbody tr th {\n",
       "        vertical-align: top;\n",
       "    }\n",
       "\n",
       "    .dataframe thead th {\n",
       "        text-align: right;\n",
       "    }\n",
       "</style>\n",
       "<table border=\"1\" class=\"dataframe\">\n",
       "  <thead>\n",
       "    <tr style=\"text-align: right;\">\n",
       "      <th></th>\n",
       "      <th>model</th>\n",
       "      <th>mse</th>\n",
       "      <th>r2</th>\n",
       "    </tr>\n",
       "  </thead>\n",
       "  <tbody>\n",
       "    <tr>\n",
       "      <th>0</th>\n",
       "      <td>Model 1</td>\n",
       "      <td>0.007098</td>\n",
       "      <td>0.49652</td>\n",
       "    </tr>\n",
       "  </tbody>\n",
       "</table>\n",
       "</div>"
      ],
      "text/plain": [
       "     model       mse       r2\n",
       "0  Model 1  0.007098  0.49652"
      ]
     },
     "execution_count": 12,
     "metadata": {},
     "output_type": "execute_result"
    }
   ],
   "source": [
    "# calculate evaluation metrics\n",
    "m1_mse = mean_squared_error(industry_y_test, lr_preds)\n",
    "m1_r2 = r2_score(industry_y_test, lr_preds)\n",
    "\n",
    "# store metrics in a dataframe \n",
    "data = [{\"model\": \"Model 1\", \"mse\": m1_mse, \"r2\": m1_r2}]\n",
    "model_metrics = pd.DataFrame(data)\n",
    "\n",
    "model_metrics"
   ]
  },
  {
   "cell_type": "markdown",
   "id": "e1f88fa5-eb63-4e46-9dde-41b588c0033e",
   "metadata": {},
   "source": [
    "<br>\n",
    "\n",
    "### Model 2: \n",
    "- This model will help us investigate how greenhouse gas emissions produced by households have changed between 2012 and 2021.\n",
    "- lm(emissions_per_capita ~ province * year)"
   ]
  },
  {
   "cell_type": "code",
   "execution_count": 13,
   "id": "5ef38890-18d0-4aa8-9eda-d0c19aa93c27",
   "metadata": {},
   "outputs": [],
   "source": [
    "# convert columns to categorical variables \n",
    "emissions_household_population['province'] = pd.Categorical(emissions_household_population['province'])   \n",
    "emissions_household_population['year'] = pd.Categorical(emissions_household_population['year'])   \n",
    "# print(emissions_household_population.dtypes)\n",
    "\n",
    "# identify the independent variables \n",
    "X = emissions_household_population[['province', 'year']]\n",
    "\n",
    "# Split data into training and testing sets \n",
    "household_X_train, household_X_test, household_y_train, household_y_test = train_test_split(X, emissions_household_population['emissions_per_capita'], \n",
    "                                                                                        test_size=0.3, random_state=42)"
   ]
  },
  {
   "cell_type": "code",
   "execution_count": 14,
   "id": "272b2cd4-a632-448d-8c0f-81d660edc2af",
   "metadata": {},
   "outputs": [],
   "source": [
    "# apply one hot encoding to the categorical independent variables \n",
    "categorical_feats_hh = [\"province\", \"year\"] \n",
    "\n",
    "categorical_transformer_hh = make_pipeline(\n",
    "    OneHotEncoder(handle_unknown=\"ignore\", sparse_output=False))\n",
    "\n",
    "preprocessor_hh = make_column_transformer(\n",
    "    (categorical_transformer_hh, categorical_feats_hh))"
   ]
  },
  {
   "cell_type": "code",
   "execution_count": 15,
   "id": "cce17da1-29e8-4b9a-b937-f0f3a4013b3a",
   "metadata": {},
   "outputs": [],
   "source": [
    "alphas_hh = 10.0 ** np.arange(-6, 6, 1)\n",
    "\n",
    "# Calling fit to examine all the transformers.\n",
    "preprocessor_hh.fit(household_X_train)    \n",
    "lr_hh = make_pipeline(preprocessor_hh, RidgeCV(alphas=alphas_hh, cv=10))\n",
    "lr_hh.fit(household_X_train, household_y_train);\n",
    "lr_hh_preds = lr_hh.predict(household_X_test)\n",
    "\n",
    "# Append the predictions and actual values as a new column to the original DataFrame  \n",
    "household_X_test['predicted_emissions'] = lr_hh_preds\n",
    "household_X_test['actual_emissions'] = household_y_test"
   ]
  },
  {
   "cell_type": "code",
   "execution_count": 25,
   "id": "36228e9f-73ba-4768-9693-f9b59fe33afd",
   "metadata": {},
   "outputs": [
    {
     "data": {
      "text/html": [
       "<div>\n",
       "<style scoped>\n",
       "    .dataframe tbody tr th:only-of-type {\n",
       "        vertical-align: middle;\n",
       "    }\n",
       "\n",
       "    .dataframe tbody tr th {\n",
       "        vertical-align: top;\n",
       "    }\n",
       "\n",
       "    .dataframe thead th {\n",
       "        text-align: right;\n",
       "    }\n",
       "</style>\n",
       "<table border=\"1\" class=\"dataframe\">\n",
       "  <thead>\n",
       "    <tr style=\"text-align: right;\">\n",
       "      <th></th>\n",
       "      <th>model</th>\n",
       "      <th>mse</th>\n",
       "      <th>r2</th>\n",
       "    </tr>\n",
       "  </thead>\n",
       "  <tbody>\n",
       "    <tr>\n",
       "      <th>0</th>\n",
       "      <td>Model 1</td>\n",
       "      <td>7.098481e-03</td>\n",
       "      <td>0.496520</td>\n",
       "    </tr>\n",
       "    <tr>\n",
       "      <th>1</th>\n",
       "      <td>Model 2</td>\n",
       "      <td>1.443276e-07</td>\n",
       "      <td>0.905178</td>\n",
       "    </tr>\n",
       "  </tbody>\n",
       "</table>\n",
       "</div>"
      ],
      "text/plain": [
       "     model           mse        r2\n",
       "0  Model 1  7.098481e-03  0.496520\n",
       "1  Model 2  1.443276e-07  0.905178"
      ]
     },
     "execution_count": 25,
     "metadata": {},
     "output_type": "execute_result"
    }
   ],
   "source": [
    "# calculate evaluation metrics\n",
    "m2_mse = mean_squared_error(household_y_test, lr_hh_preds)\n",
    "m2_r2 = r2_score(household_y_test, lr_hh_preds)\n",
    "\n",
    "# store model 2 metrics in the dataframe \n",
    "m2_data = {\"model\": \"Model 2\", \"mse\": m2_mse, \"r2\": m2_r2}\n",
    "model_metrics = pd.concat([model_metrics, pd.DataFrame([m2_data])], ignore_index=True)\n",
    "model_metrics"
   ]
  },
  {
   "cell_type": "code",
   "execution_count": null,
   "id": "76c28379-fffe-4293-950b-d515dc5e74f9",
   "metadata": {},
   "outputs": [],
   "source": []
  }
 ],
 "metadata": {
  "kernelspec": {
   "display_name": "Python 3 (ipykernel)",
   "language": "python",
   "name": "python3"
  },
  "language_info": {
   "codemirror_mode": {
    "name": "ipython",
    "version": 3
   },
   "file_extension": ".py",
   "mimetype": "text/x-python",
   "name": "python",
   "nbconvert_exporter": "python",
   "pygments_lexer": "ipython3",
   "version": "3.12.2"
  }
 },
 "nbformat": 4,
 "nbformat_minor": 5
}

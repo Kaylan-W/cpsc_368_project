library(tidyverse)
library(dplyr)


# tidying the populations dataset
populations <- read.csv("../data/population_per_province_data.csv")
head(populations)

# turn the columns into rows
pops_pivoted <- populations |> pivot_longer(!Geography, names_to = "period", values_to = "count")
head(pops_pivoted)

# split the 'period' column into quarter and year
pops_split <- pops_pivoted %>% separate_wider_delim(period, ".", names = c("quarter", "year"))
head(pops_split)

# only keep rows where quarter = Q4, because this is this population at the end of each year
pops_sum <- pops_split |>
            filter(quarter == "Q4")|>
            select(-quarter)
pops_sum
write.csv(pops_sum, "../data/tidied_population_estimates.csv",row.names = FALSE)


# tidying the employment dataset
employment <- read.csv("../data/manufacturing_employment_data.csv")
# head(employment)

# renaming columns 
old_names <- c("naics_industry", "Province", "X2012", "X2013", "X2014", 
               "X2015", "X2016", "X2017", "X2018", "X2019", "X2020", "X2021")
new_names <- c("naics_industry", "province", "2012", "2013", "2014", 
               "2015", "2016", "2017", "2018", "2019", "2020", "2021")
colnames(employment)[colnames(employment) %in% old_names] <- new_names
# head(employment)

emp_pivoted <- employment |> pivot_longer(!naics_industry:province, names_to = "year", values_to = "count")
# head(emp_pivoted)

write.csv(emp_pivoted, "../data/tidied_employment_estimates.csv",row.names = FALSE)


# tidying the emissions dataset
emissions <- read.csv("../data/emissions_data_per_province.csv")

# rename columns
old_names <- c("Geography", "Sector", "X2012", "X2013", "X2014", 
               "X2015", "X2016", "X2017", "X2018", "X2019", "X2020", "X2021")
new_names <- c("province", "ioic_industry", "2012", "2013", "2014", 
               "2015", "2016", "2017", "2018", "2019", "2020", "2021")
colnames(emissions)[colnames(emissions) %in% old_names] <- new_names

# pivot years from columns to rows
emissions_pivoted <- emissions |> 
                     pivot_longer(!province:ioic_industry, names_to = "year", values_to = "count")



# Filter emissions_pivoted based on the word 'total' in the 'ioic_industry' column
remove_totals <- emissions_pivoted[!grepl("total", emissions_pivoted$ioic_industry, ignore.case = TRUE), ]

# Filter emissions_pivoted to remove rows containing the word 'household'
industry_emissions <- remove_totals[!grepl("households", remove_totals$ioic_industry, ignore.case = TRUE), ]

# Filter emissions_pivoted to keep only rows containing the word 'households'
household_emissions <- remove_totals[grepl("households", remove_totals$ioic_industry, ignore.case = TRUE), ]

# put the ioic codes in industry_emissions into a separate column
industry_emissions <- industry_emissions %>% separate_wider_delim(ioic_industry, "[", names = c("industry_name", "ioic_code"))

# drop the unnecessary ']' at the end of the values in the ioic_code column in industry_emissions
industry_emissions$ioic_code <- substr(industry_emissions$ioic_code, 1, nchar(industry_emissions$ioic_code) - 1)

# add in a code for households called  'ioic_code' and set the value to 0 for all rows
household_emissions$ioic_code <- NA
household_emissions <- household_emissions %>%
  mutate(ioic_code = case_when(
    ioic_industry == "Households: Motor fuels and lubricants" ~ "9999999", # household motor fuels
    ioic_industry == "Households: Electricity and other fuels" ~ "9999998"))


# Create a new DataFrame from household_emissions with columns in a different   
# order and different names so that it can be merged with industry_emissions
reformatted_household_emissions <- data.frame(
  province = household_emissions$province,
  industry_name = household_emissions$ioic_industry,
  ioic_code = household_emissions$ioic_code,
  year = household_emissions$year,
  count = household_emissions$count
)
head(reformatted_household_emissions)

# rejoin the two dataframes
appended_df <- rbind(reformatted_household_emissions, industry_emissions)

# drop unneeded characters at the end of some ioic codes
appended_df$ioic_code <- gsub("\\] 1$", "", appended_df$ioic_code)

write.csv(appended_df, "../data/tidied_emissions_estimates.csv",row.names = FALSE)


emissions_no_key <- read.csv("../data/tidied_emissions_estimates.csv")
emissions_no_key$industry_code <- NA  # Initialize the new column with NA values
 
emissions_no_key <- emissions_no_key %>%
  mutate(industry_code = case_when(
    ioic_code == "9999999" ~ "99999", # household motor fuels
    ioic_code == "9999998" ~ "99998", # household electricity
    ioic_code == "BS31110" ~ "3111",    # Animal food manufacturing
    ioic_code == "BS31130" ~ "3113",    # Sugar and confectionery
    ioic_code == "BS31140" ~ "3114",    # Fruit and vegetable preserving
    ioic_code == "BS31150" ~ "3115",    # Dairy product manufacturing
    ioic_code == "BS31160" ~ "3116",    # Meat product manufacturing
    ioic_code == "BS31170" ~ "3117",    # Seafood product preparation
    ioic_code == "BS311A0"        ~ "311A",    # 
    ioic_code == "BS31120"        ~ "3112",    # 
    ioic_code == "BS31180"        ~ "3118",    # 
    ioic_code == "BS31190"        ~ "3119",    # 
    ioic_code == "BS31211"        ~ "31211",   # 
    ioic_code == "BS31212"        ~ "31212",   # 
    ioic_code == "BS3121A"        ~ "3121A",   # 
    ioic_code == "BS31220"        ~ "3122",    # 
    ioic_code == "BS31A00"        ~ "31A",     # 
    ioic_code == "BS31B00"        ~ "31B",     # 
    ioic_code == "BS32100"        ~ "321",     # 
    ioic_code == "BS32110"        ~ "3211",    # 
    ioic_code == "BS32120"        ~ "3212",    # 
    ioic_code == "BS32190"        ~ "3219",    # 
    ioic_code == "BS32210"        ~ "3221",    # 
    ioic_code == "BS32220"        ~ "3222",    # 
    ioic_code == "BS32300"        ~ "323",     # 
    ioic_code == "BS32400"        ~ "324",     # 
    ioic_code == "BS32411"        ~ "32411",   # 
    ioic_code == "BS3241A"        ~ "3241A",   # 
    ioic_code == "BS32510"        ~ "3251",    # 
    ioic_code == "BS32530"        ~ "3253",    # 
    ioic_code == "BS32540"        ~ "3254",    # 
    ioic_code == "BS325C0"        ~ "325A",    # 
    ioic_code == "BS32550"        ~ "3255",    # 
    ioic_code == "BS32560"        ~ "3256",    # 
    ioic_code == "BS32590"        ~ "3259",    # 
    ioic_code == "BS325B0"        ~ "325B",    # 
    ioic_code == "BS32610"        ~ "3261",    # 
    ioic_code == "BS32620"        ~ "3262",    # 
    ioic_code == "BS32730"        ~ "3273",    # 
    ioic_code == "BS327A0"        ~ "327A",    # 
    ioic_code == "BS33100"        ~ "331",     # 
    ioic_code == "BS33110"        ~ "3311",    # 
    ioic_code == "BS33120"        ~ "3312",    # 
    ioic_code == "BS33130"        ~ "3313",    # 
    ioic_code == "BS33140"        ~ "3314",    # 
    ioic_code == "BS33150"        ~ "3315",    # 
    ioic_code == "BS33200"        ~ "332",     # 
    ioic_code == "BS33210"        ~ "3321",    # 
    ioic_code == "BS33230"        ~ "3323",    # 
    ioic_code == "BS33240"        ~ "3324",    # 
    ioic_code == "BS33250"        ~ "3325",    # 
    ioic_code == "BS33260"        ~ "3326",    # 
    ioic_code == "BS33270"        ~ "3327",    # 
    ioic_code == "BS33280"        ~ "3328",    # 
    ioic_code == "BS332A0"        ~ "332A",    # 
    ioic_code == "BS33300"        ~ "333",     # 
    ioic_code == "BS33310"        ~ "3331",    # 
    ioic_code == "BS333A0"        ~ "333A",    # 
    ioic_code == "BS33320"        ~ "3332",    # 
    ioic_code == "BS33330"        ~ "3333",    # 
    ioic_code == "BS33340"        ~ "3334",    # 
    ioic_code == "BS33350"        ~ "3335",    # 
    ioic_code == "BS33360"        ~ "3336",    # 
    ioic_code == "BS33390"        ~ "3339",    # 
    ioic_code == "BS334B0"        ~ "334B",    # 
    ioic_code == "BS33410"        ~ "3341",    # 
    ioic_code == "BS33420"        ~ "3342",    # 
    ioic_code == "BS33440"        ~ "3344",    # 
    ioic_code == "BS334A0"        ~ "334A",    # 
    ioic_code == "BS33520"        ~ "335",     # 
    ioic_code == "BS33510"        ~ "3351",    # 
    ioic_code == "BS33520"        ~ "3352",    # 
    ioic_code == "BS33530"        ~ "3353",    # 
    ioic_code == "BS33590"        ~ "3359",    # 
    ioic_code == "BS335A0"        ~ "335A",     # 
    ioic_code == "BS33610"   ~ "3361",
    ioic_code == "BS33611"  ~ "33611",
    ioic_code == "BS33612"  ~ "33612",
    ioic_code == "BS33620"   ~ "3362",
    ioic_code == "BS33630"   ~ "3363",
    ioic_code == "BS33631"  ~ "33631",
    ioic_code == "BS33632"  ~ "33632",
    ioic_code == "BS33633"  ~ "33633",
    ioic_code == "BS33634"  ~ "33634",
    ioic_code == "BS33635"  ~ "33635",
    ioic_code == "BS33636"  ~ "33636",
    ioic_code == "BS33637"  ~ "33637",
    ioic_code == "BS33639"  ~ "33639",
    ioic_code == "BS33640"   ~ "3364",
    ioic_code == "BS33650"   ~ "3365",
    ioic_code == "BS33660"   ~ "3366",
    ioic_code == "BS33690"   ~ "3369",
    ioic_code == "BS33700"    ~ "337",
    ioic_code == "BS33710"   ~ "3371",
    ioic_code == "BS33720"   ~ "3372",
    ioic_code == "BS33790"   ~ "3379",
    ioic_code == "BS33900"    ~ "339",
    ioic_code == "BS33910"   ~ "3391",
    ioic_code == "BS33990"   ~ "3399",
    TRUE                  ~ NA_character_ 
  ))


write.csv(emissions_no_key, "../data/tidied_emissions_with_key.csv",row.names = FALSE)




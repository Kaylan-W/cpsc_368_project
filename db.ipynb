{
 "cells": [
  {
   "cell_type": "code",
   "execution_count": 43,
   "metadata": {},
   "outputs": [],
   "source": [
    "import pandas as pd\n",
    "import oracledb"
   ]
  },
  {
   "cell_type": "code",
   "execution_count": 44,
   "metadata": {},
   "outputs": [],
   "source": [
    "\n",
    "dsn = oracledb.makedsn(\"localhost\", 1522, service_name=\"stu\")\n",
    "connection = oracledb.connect(user=\"ora_msan99\", password=\"a85263259\", dsn=dsn)"
   ]
  },
  {
   "cell_type": "code",
   "execution_count": 56,
   "metadata": {},
   "outputs": [],
   "source": [
    "\n",
    "Province=[]\n",
    "cur = connection.cursor()\n",
    "for row in cur.execute(\"select * from Province\"):\n",
    "    Province.append(row)\n",
    "\n",
    "cur.close()\n",
    "Industry=[]\n",
    "cur = connection.cursor()\n",
    "for row in cur.execute(\"select * from Industry\"):\n",
    "    Industry.append(row)\n",
    "\n",
    "    \n",
    "cur.close()\n",
    "\n",
    "IndustryMapping=[]\n",
    "\n",
    "cur = connection.cursor()\n",
    "for row in cur.execute(\"select * from IndustryMapping\"):\n",
    "    IndustryMapping.append(row)\n",
    "    \n",
    "cur.close()\n",
    "Emissions=[]\n",
    "cur = connection.cursor()\n",
    "for row in cur.execute(\"select * from Emissions\"):\n",
    "    Emissions.append(row)\n",
    "    \n",
    "cur.close()\n"
   ]
  },
  {
   "cell_type": "code",
   "execution_count": 57,
   "metadata": {},
   "outputs": [],
   "source": [
    "Emissions = pd.DataFrame(Emissions,columns=['Geography', 'IOIC', 'Year', 'IndustryID', 'IndustryName', 'Emissions'])"
   ]
  },
  {
   "cell_type": "code",
   "execution_count": 58,
   "metadata": {},
   "outputs": [],
   "source": [
    "IndustryMapping = pd.DataFrame(IndustryMapping,columns=['IndustryCode', 'IndustryName', 'NAICS', 'IOIC', 'Durable'])"
   ]
  },
  {
   "cell_type": "code",
   "execution_count": 61,
   "metadata": {},
   "outputs": [],
   "source": [
    "Province = pd.DataFrame(Province,columns=['Geography', 'Year', 'Population'])"
   ]
  },
  {
   "cell_type": "code",
   "execution_count": 62,
   "metadata": {},
   "outputs": [],
   "source": [
    "Industry = pd.DataFrame(Industry,columns=['Good_Type', 'Geography', 'Year','No_Employed'])"
   ]
  },
  {
   "cell_type": "code",
   "execution_count": 63,
   "metadata": {},
   "outputs": [
    {
     "data": {
      "text/html": [
       "<div>\n",
       "<style scoped>\n",
       "    .dataframe tbody tr th:only-of-type {\n",
       "        vertical-align: middle;\n",
       "    }\n",
       "\n",
       "    .dataframe tbody tr th {\n",
       "        vertical-align: top;\n",
       "    }\n",
       "\n",
       "    .dataframe thead th {\n",
       "        text-align: right;\n",
       "    }\n",
       "</style>\n",
       "<table border=\"1\" class=\"dataframe\">\n",
       "  <thead>\n",
       "    <tr style=\"text-align: right;\">\n",
       "      <th></th>\n",
       "      <th>Good_Type</th>\n",
       "      <th>Geography</th>\n",
       "      <th>Year</th>\n",
       "      <th>No_Employed</th>\n",
       "    </tr>\n",
       "  </thead>\n",
       "  <tbody>\n",
       "    <tr>\n",
       "      <th>0</th>\n",
       "      <td>Manufacturing</td>\n",
       "      <td>Canada</td>\n",
       "      <td>2012</td>\n",
       "      <td>1776.6</td>\n",
       "    </tr>\n",
       "    <tr>\n",
       "      <th>1</th>\n",
       "      <td>Manufacturing</td>\n",
       "      <td>Canada</td>\n",
       "      <td>2013</td>\n",
       "      <td>1732.6</td>\n",
       "    </tr>\n",
       "    <tr>\n",
       "      <th>2</th>\n",
       "      <td>Manufacturing</td>\n",
       "      <td>Canada</td>\n",
       "      <td>2014</td>\n",
       "      <td>1721.7</td>\n",
       "    </tr>\n",
       "    <tr>\n",
       "      <th>3</th>\n",
       "      <td>Manufacturing</td>\n",
       "      <td>Canada</td>\n",
       "      <td>2015</td>\n",
       "      <td>1734.4</td>\n",
       "    </tr>\n",
       "    <tr>\n",
       "      <th>4</th>\n",
       "      <td>Manufacturing</td>\n",
       "      <td>Canada</td>\n",
       "      <td>2016</td>\n",
       "      <td>1729.8</td>\n",
       "    </tr>\n",
       "    <tr>\n",
       "      <th>...</th>\n",
       "      <td>...</td>\n",
       "      <td>...</td>\n",
       "      <td>...</td>\n",
       "      <td>...</td>\n",
       "    </tr>\n",
       "    <tr>\n",
       "      <th>325</th>\n",
       "      <td>Non-durables</td>\n",
       "      <td>British Columbia</td>\n",
       "      <td>2017</td>\n",
       "      <td>77.4</td>\n",
       "    </tr>\n",
       "    <tr>\n",
       "      <th>326</th>\n",
       "      <td>Non-durables</td>\n",
       "      <td>British Columbia</td>\n",
       "      <td>2018</td>\n",
       "      <td>75.6</td>\n",
       "    </tr>\n",
       "    <tr>\n",
       "      <th>327</th>\n",
       "      <td>Non-durables</td>\n",
       "      <td>British Columbia</td>\n",
       "      <td>2019</td>\n",
       "      <td>65.4</td>\n",
       "    </tr>\n",
       "    <tr>\n",
       "      <th>328</th>\n",
       "      <td>Non-durables</td>\n",
       "      <td>British Columbia</td>\n",
       "      <td>2020</td>\n",
       "      <td>68.9</td>\n",
       "    </tr>\n",
       "    <tr>\n",
       "      <th>329</th>\n",
       "      <td>Non-durables</td>\n",
       "      <td>British Columbia</td>\n",
       "      <td>2021</td>\n",
       "      <td>79.2</td>\n",
       "    </tr>\n",
       "  </tbody>\n",
       "</table>\n",
       "<p>330 rows × 4 columns</p>\n",
       "</div>"
      ],
      "text/plain": [
       "         Good_Type         Geography  Year  No_Employed\n",
       "0    Manufacturing            Canada  2012       1776.6\n",
       "1    Manufacturing            Canada  2013       1732.6\n",
       "2    Manufacturing            Canada  2014       1721.7\n",
       "3    Manufacturing            Canada  2015       1734.4\n",
       "4    Manufacturing            Canada  2016       1729.8\n",
       "..             ...               ...   ...          ...\n",
       "325   Non-durables  British Columbia  2017         77.4\n",
       "326   Non-durables  British Columbia  2018         75.6\n",
       "327   Non-durables  British Columbia  2019         65.4\n",
       "328   Non-durables  British Columbia  2020         68.9\n",
       "329   Non-durables  British Columbia  2021         79.2\n",
       "\n",
       "[330 rows x 4 columns]"
      ]
     },
     "execution_count": 63,
     "metadata": {},
     "output_type": "execute_result"
    }
   ],
   "source": [
    "Industry"
   ]
  },
  {
   "cell_type": "code",
   "execution_count": null,
   "metadata": {},
   "outputs": [],
   "source": []
  }
 ],
 "metadata": {
  "kernelspec": {
   "display_name": "base",
   "language": "python",
   "name": "base"
  },
  "language_info": {
   "codemirror_mode": {
    "name": "ipython",
    "version": 3
   },
   "file_extension": ".py",
   "mimetype": "text/x-python",
   "name": "python",
   "nbconvert_exporter": "python",
   "pygments_lexer": "ipython3",
   "version": "3.9.5"
  }
 },
 "nbformat": 4,
 "nbformat_minor": 4
}
